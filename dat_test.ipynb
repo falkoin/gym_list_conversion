{
 "cells": [
  {
   "cell_type": "markdown",
   "metadata": {},
   "source": [
    "# DAT test"
   ]
  },
  {
   "cell_type": "code",
   "execution_count": 26,
   "metadata": {},
   "outputs": [],
   "source": [
    "import pandas as pd\n",
    "import plotly.express as px\n",
    "import os\n",
    "import sqlite3\n",
    "import hashlib"
   ]
  },
  {
   "cell_type": "code",
   "execution_count": 171,
   "metadata": {},
   "outputs": [],
   "source": [
    "# dataFolder = \"/Users/falkowork/Downloads/2021_wch_baku/men/\"\n",
    "# db_name = \"2021_world_championships_men\"\n",
    "dataFolder = \"/Users/falkowork/Downloads/2021_wch_baku/women/\"\n",
    "db_name = \"2021_world_championships_women\"\n",
    "sortedList = sorted(os.listdir(dataFolder))\n",
    "header = ('Start Number', \"Gender\", \"Country\", \"Phase\", \"Routine\", \"Name\", \"Hash\")\n",
    "df_main = pd.DataFrame(columns=header)\n",
    "connection = sqlite3.connect(\"trampoline.db\")\n",
    "cursor = connection.cursor()"
   ]
  },
  {
   "cell_type": "code",
   "execution_count": 172,
   "metadata": {},
   "outputs": [],
   "source": [
    "idx = 0\n",
    "for dataset in sortedList:\n",
    "    if not \".DS_Store\" in dataset:\n",
    "        idx += 1\n",
    "        # print(idx)\n",
    "        datContent = [i.strip().split() for i in open(dataFolder + dataset).readlines()]\n",
    "        trampoline_data = datContent[4:14]\n",
    "        athelte_data = datContent[68:76]\n",
    "        df_trampoline = pd.DataFrame(trampoline_data)\n",
    "        df_trampoline.drop([0, 1, 3], axis=1,inplace=True)\n",
    "        header = (\"T\", \"H\", \"x\", \"y\")\n",
    "        df_trampoline.columns = header\n",
    "        df = pd.DataFrame(athelte_data)\n",
    "        df.drop([0], axis=1,inplace=True)\n",
    "        \n",
    "            \n",
    "        df = df.T\n",
    "        df.columns = df.iloc[0].values\n",
    "        df.drop([1], axis=0,inplace=True)\n",
    "        df.reset_index(inplace=True)\n",
    "        if isinstance(df[\"firstName\"][1], str):\n",
    "            df.iloc[0,3] = df[\"firstName\"][0] + ' ' + df[\"firstName\"][1]\n",
    "        elif isinstance(df[\"lastName\"][1], str):\n",
    "            df.iloc[0,5] = df[\"lastName\"][0] + ' ' + df[\"lastName\"][1]\n",
    "\n",
    "        if df[\"routine\"][1] == \"1\":\n",
    "            df.iloc[0,8] = \"1st\"\n",
    "        elif df[\"routine\"][1] == \"2\":\n",
    "            df.iloc[0,8] = \"2nd\"\n",
    "\n",
    "        if df[\"phase\"][0] == \"Individual\":\n",
    "            df.iloc[0,7] = \"Final\"\n",
    "\n",
    "        df.drop([1], axis=0,inplace=True)\n",
    "\n",
    "        df[\"Name\"] = df[\"lastName\"] + \" \" + df[\"firstName\"]\n",
    "        df.drop(['index', 'discipline', 'lastName', 'firstName'], axis=1,inplace=True)\n",
    "        hash_val = hashlib.md5(dataset.encode('UTF-8')).hexdigest()\n",
    "        df[\"Hash\"] = hash_val\n",
    "\n",
    "        df_trampoline.to_sql(name=hash_val, con=connection, if_exists='replace')\n",
    "\n",
    "        header = ('Start Number', \"Gender\", \"Country\", \"Phase\", \"Routine\", \"Name\", \"Hash\")\n",
    "        df.columns = header\n",
    "        df_main = pd.concat([df_main, df])\n",
    "\n",
    "df_main.to_sql(name=db_name, con=connection, if_exists='replace')\n",
    "connection.close()"
   ]
  },
  {
   "cell_type": "code",
   "execution_count": 117,
   "metadata": {},
   "outputs": [
    {
     "data": {
      "text/html": [
       "<div>\n",
       "<style scoped>\n",
       "    .dataframe tbody tr th:only-of-type {\n",
       "        vertical-align: middle;\n",
       "    }\n",
       "\n",
       "    .dataframe tbody tr th {\n",
       "        vertical-align: top;\n",
       "    }\n",
       "\n",
       "    .dataframe thead th {\n",
       "        text-align: right;\n",
       "    }\n",
       "</style>\n",
       "<table border=\"1\" class=\"dataframe\">\n",
       "  <thead>\n",
       "    <tr style=\"text-align: right;\">\n",
       "      <th></th>\n",
       "      <th>2</th>\n",
       "      <th>4</th>\n",
       "      <th>5</th>\n",
       "      <th>6</th>\n",
       "      <th>7</th>\n",
       "      <th>8</th>\n",
       "    </tr>\n",
       "  </thead>\n",
       "  <tbody>\n",
       "    <tr>\n",
       "      <th>0</th>\n",
       "      <td>0.1</td>\n",
       "      <td>0.1</td>\n",
       "      <td>0.9</td>\n",
       "      <td>0.12</td>\n",
       "      <td>0.88</td>\n",
       "      <td>0.050</td>\n",
       "    </tr>\n",
       "    <tr>\n",
       "      <th>1</th>\n",
       "      <td>None</td>\n",
       "      <td>None</td>\n",
       "      <td>None</td>\n",
       "      <td>None</td>\n",
       "      <td>None</td>\n",
       "      <td>None</td>\n",
       "    </tr>\n",
       "    <tr>\n",
       "      <th>2</th>\n",
       "      <td>None</td>\n",
       "      <td>None</td>\n",
       "      <td>None</td>\n",
       "      <td>None</td>\n",
       "      <td>None</td>\n",
       "      <td>None</td>\n",
       "    </tr>\n",
       "    <tr>\n",
       "      <th>3</th>\n",
       "      <td>None</td>\n",
       "      <td>None</td>\n",
       "      <td>None</td>\n",
       "      <td>None</td>\n",
       "      <td>None</td>\n",
       "      <td>None</td>\n",
       "    </tr>\n",
       "    <tr>\n",
       "      <th>4</th>\n",
       "      <td>None</td>\n",
       "      <td>None</td>\n",
       "      <td>None</td>\n",
       "      <td>None</td>\n",
       "      <td>None</td>\n",
       "      <td>None</td>\n",
       "    </tr>\n",
       "    <tr>\n",
       "      <th>5</th>\n",
       "      <td>None</td>\n",
       "      <td>None</td>\n",
       "      <td>None</td>\n",
       "      <td>None</td>\n",
       "      <td>None</td>\n",
       "      <td>None</td>\n",
       "    </tr>\n",
       "    <tr>\n",
       "      <th>6</th>\n",
       "      <td>None</td>\n",
       "      <td>None</td>\n",
       "      <td>None</td>\n",
       "      <td>None</td>\n",
       "      <td>None</td>\n",
       "      <td>None</td>\n",
       "    </tr>\n",
       "    <tr>\n",
       "      <th>7</th>\n",
       "      <td>None</td>\n",
       "      <td>None</td>\n",
       "      <td>None</td>\n",
       "      <td>None</td>\n",
       "      <td>None</td>\n",
       "      <td>None</td>\n",
       "    </tr>\n",
       "    <tr>\n",
       "      <th>8</th>\n",
       "      <td>None</td>\n",
       "      <td>None</td>\n",
       "      <td>None</td>\n",
       "      <td>None</td>\n",
       "      <td>None</td>\n",
       "      <td>None</td>\n",
       "    </tr>\n",
       "    <tr>\n",
       "      <th>9</th>\n",
       "      <td>None</td>\n",
       "      <td>None</td>\n",
       "      <td>None</td>\n",
       "      <td>None</td>\n",
       "      <td>None</td>\n",
       "      <td>None</td>\n",
       "    </tr>\n",
       "  </tbody>\n",
       "</table>\n",
       "</div>"
      ],
      "text/plain": [
       "      2     4     5     6     7      8\n",
       "0   0.1   0.1   0.9  0.12  0.88  0.050\n",
       "1  None  None  None  None  None   None\n",
       "2  None  None  None  None  None   None\n",
       "3  None  None  None  None  None   None\n",
       "4  None  None  None  None  None   None\n",
       "5  None  None  None  None  None   None\n",
       "6  None  None  None  None  None   None\n",
       "7  None  None  None  None  None   None\n",
       "8  None  None  None  None  None   None\n",
       "9  None  None  None  None  None   None"
      ]
     },
     "execution_count": 117,
     "metadata": {},
     "output_type": "execute_result"
    }
   ],
   "source": [
    "trampoline_data = datContent[4:14]\n",
    "df_trampoline = pd.DataFrame(trampoline_data)\n",
    "df_trampoline.drop([0, 1, 3], axis=1,inplace=True)\n",
    "df_trampoline\n"
   ]
  },
  {
   "cell_type": "markdown",
   "metadata": {},
   "source": [
    "# European Championship 2022"
   ]
  },
  {
   "cell_type": "markdown",
   "metadata": {},
   "source": [
    "## Men"
   ]
  },
  {
   "cell_type": "code",
   "execution_count": 173,
   "metadata": {},
   "outputs": [],
   "source": [
    "dataFolder = \"/Users/falkowork/Downloads/2022_euch_rimini/men/\"\n",
    "db_name = \"2022_european_championships_men\"\n",
    "sortedList = sorted(os.listdir(dataFolder))\n",
    "header = ('Start Number', \"Gender\", \"Country\", \"Phase\", \"Routine\", \"Name\", \"Hash\")\n",
    "df_main = pd.DataFrame(columns=header)\n",
    "connection = sqlite3.connect(\"trampoline.db\")\n",
    "cursor = connection.cursor()"
   ]
  },
  {
   "cell_type": "code",
   "execution_count": 174,
   "metadata": {},
   "outputs": [],
   "source": [
    "idx = 0\n",
    "exlusion_list = ['20220605_123050_Qualification 2_SENIORS_UKR_Routine 1_DAVYDENKO Anton.dat', '20220605_122818_Qualification 2_SENIORS_ESP_Routine 1_MARTIN Jorge.dat']\n",
    "for dataset in sortedList:\n",
    "    if (not \".DS_Store\" in dataset) and (dataset not in exlusion_list):\n",
    "        if (not '_____' in dataset):\n",
    "            idx += 1\n",
    "            # print(idx)\n",
    "            datContent = [i.strip().split() for i in open(dataFolder + dataset).readlines()]\n",
    "            trampoline_data = datContent[4:14]\n",
    "            athlete_data = datContent[68:76]\n",
    "            df_trampoline = pd.DataFrame(trampoline_data)\n",
    "            which_competition = int(datContent[0][-1])\n",
    "            if (len(df_trampoline.columns) > 2) and (which_competition < 3):\n",
    "                if (athlete_data[3][-1] == 'SENIORS') and (athlete_data[5][2] is not 'Team'):\n",
    "                    df_trampoline.drop([0, 1, 3], axis=1,inplace=True)\n",
    "                    header = (\"T\", \"H\", \"x\", \"y\")\n",
    "                    df_trampoline.columns = header\n",
    "                    routine_str = ('1st', '2nd')\n",
    "                    rawname = athlete_data[0][2:]\n",
    "                    rawname = ' '.join([x.capitalize() for x in rawname])\n",
    "                    noc = athlete_data[4][-1]\n",
    "                    if athlete_data[5][-1] == '2':\n",
    "                        phase = 'Semi'\n",
    "                    else:\n",
    "                        phase = athlete_data[5][-2]\n",
    "                    routine = routine_str[int(athlete_data[6][-1])-1]\n",
    "                    startnumber = 0\n",
    "                    gender = 'Men'\n",
    "                    hash_val = hashlib.md5(dataset.encode('UTF-8')).hexdigest()\n",
    "                    df = pd.DataFrame((startnumber, gender, noc, phase, routine, rawname, hash_val))\n",
    "                    df = df.T\n",
    "\n",
    "                    df_trampoline.to_sql(name=hash_val, con=connection, if_exists='replace')\n",
    "\n",
    "                    header = ('Start Number', \"Gender\", \"Country\", \"Phase\", \"Routine\", \"Name\", \"Hash\")\n",
    "                    df.columns = header\n",
    "                    df_main = pd.concat([df_main, df])\n",
    "\n",
    "df_main.to_sql(name=db_name, con=connection, if_exists='replace')\n",
    "connection.close()"
   ]
  },
  {
   "cell_type": "markdown",
   "metadata": {},
   "source": [
    "## Women"
   ]
  },
  {
   "cell_type": "code",
   "execution_count": 175,
   "metadata": {},
   "outputs": [],
   "source": [
    "dataFolder = \"/Users/falkowork/Downloads/2022_euch_rimini/women/\"\n",
    "db_name = \"2022_european_championships_women\"\n",
    "sortedList = sorted(os.listdir(dataFolder))\n",
    "header = ('Start Number', \"Gender\", \"Country\", \"Phase\", \"Routine\", \"Name\", \"Hash\")\n",
    "df_main = pd.DataFrame(columns=header)\n",
    "connection = sqlite3.connect(\"trampoline.db\")\n",
    "cursor = connection.cursor()"
   ]
  },
  {
   "cell_type": "code",
   "execution_count": 176,
   "metadata": {},
   "outputs": [],
   "source": [
    "idx = 0\n",
    "exlusion_list = []\n",
    "for dataset in sortedList:\n",
    "    if (not \".DS_Store\" in dataset) and (dataset not in exlusion_list):\n",
    "        if (not '_____' in dataset):\n",
    "            idx += 1\n",
    "            # print(idx)\n",
    "            datContent = [i.strip().split() for i in open(dataFolder + dataset).readlines()]\n",
    "            trampoline_data = datContent[4:14]\n",
    "            athlete_data = datContent[68:76]\n",
    "            df_trampoline = pd.DataFrame(trampoline_data)\n",
    "            which_competition = int(datContent[0][-1])\n",
    "            if (len(df_trampoline.columns) > 2) and (which_competition < 3):\n",
    "                if (athlete_data[3][-1] == 'SENIORS') and (athlete_data[5][2] is not 'Team'):\n",
    "                    df_trampoline.drop([0, 1, 3], axis=1,inplace=True)\n",
    "                    header = (\"T\", \"H\", \"x\", \"y\")\n",
    "                    df_trampoline.columns = header\n",
    "                    routine_str = ('1st', '2nd')\n",
    "                    rawname = athlete_data[0][2:]\n",
    "                    rawname = ' '.join([x.capitalize() for x in rawname])\n",
    "                    noc = athlete_data[4][-1]\n",
    "                    if athlete_data[5][-1] == '2':\n",
    "                        phase = 'Semi'\n",
    "                    else:\n",
    "                        phase = athlete_data[5][-2]\n",
    "                    routine = routine_str[int(athlete_data[6][-1])-1]\n",
    "                    startnumber = 0\n",
    "                    gender = 'Women'\n",
    "                    hash_val = hashlib.md5(dataset.encode('UTF-8')).hexdigest()\n",
    "                    df = pd.DataFrame((startnumber, gender, noc, phase, routine, rawname, hash_val))\n",
    "                    df = df.T\n",
    "\n",
    "                    df_trampoline.to_sql(name=hash_val, con=connection, if_exists='replace')\n",
    "\n",
    "                    header = ('Start Number', \"Gender\", \"Country\", \"Phase\", \"Routine\", \"Name\", \"Hash\")\n",
    "                    df.columns = header\n",
    "                    df_main = pd.concat([df_main, df])\n",
    "\n",
    "df_main.to_sql(name=db_name, con=connection, if_exists='replace')\n",
    "connection.close()"
   ]
  },
  {
   "cell_type": "code",
   "execution_count": 160,
   "metadata": {},
   "outputs": [
    {
     "data": {
      "text/plain": [
       "'Final'"
      ]
     },
     "execution_count": 160,
     "metadata": {},
     "output_type": "execute_result"
    }
   ],
   "source": [
    "athlete_data[5][2]"
   ]
  },
  {
   "cell_type": "code",
   "execution_count": 103,
   "metadata": {},
   "outputs": [],
   "source": [
    "routine_str = ('1st', '2nd')\n",
    "rawname = athelte_data[0][2:]\n",
    "rawname = ' '.join([x.capitalize() for x in rawname])\n",
    "noc = athelte_data[4][-1]\n",
    "phase = athelte_data[5][-2]\n",
    "routine = routine_str[int(athelte_data[6][-1])-1]\n",
    "startnumber = 0\n",
    "gender = 'Men'"
   ]
  },
  {
   "cell_type": "code",
   "execution_count": 104,
   "metadata": {},
   "outputs": [],
   "source": [
    "df = pd.DataFrame((startnumber, gender, noc, phase, routine, rawname))"
   ]
  },
  {
   "cell_type": "code",
   "execution_count": 105,
   "metadata": {},
   "outputs": [],
   "source": [
    "df = df.T\n",
    "df.columns = ('Start Number', 'Gender', 'Country', 'Phase', 'Routine', 'Name')"
   ]
  },
  {
   "cell_type": "code",
   "execution_count": 106,
   "metadata": {},
   "outputs": [
    {
     "data": {
      "text/html": [
       "<div>\n",
       "<style scoped>\n",
       "    .dataframe tbody tr th:only-of-type {\n",
       "        vertical-align: middle;\n",
       "    }\n",
       "\n",
       "    .dataframe tbody tr th {\n",
       "        vertical-align: top;\n",
       "    }\n",
       "\n",
       "    .dataframe thead th {\n",
       "        text-align: right;\n",
       "    }\n",
       "</style>\n",
       "<table border=\"1\" class=\"dataframe\">\n",
       "  <thead>\n",
       "    <tr style=\"text-align: right;\">\n",
       "      <th></th>\n",
       "      <th>Start Number</th>\n",
       "      <th>Gender</th>\n",
       "      <th>Country</th>\n",
       "      <th>Phase</th>\n",
       "      <th>Routine</th>\n",
       "      <th>Name</th>\n",
       "    </tr>\n",
       "  </thead>\n",
       "  <tbody>\n",
       "    <tr>\n",
       "      <th>0</th>\n",
       "      <td>0</td>\n",
       "      <td>Men</td>\n",
       "      <td>CZE</td>\n",
       "      <td>Qualification</td>\n",
       "      <td>1st</td>\n",
       "      <td>Cervinka Oliver</td>\n",
       "    </tr>\n",
       "  </tbody>\n",
       "</table>\n",
       "</div>"
      ],
      "text/plain": [
       "  Start Number Gender Country          Phase Routine             Name\n",
       "0            0    Men     CZE  Qualification     1st  Cervinka Oliver"
      ]
     },
     "execution_count": 106,
     "metadata": {},
     "output_type": "execute_result"
    }
   ],
   "source": [
    "df"
   ]
  }
 ],
 "metadata": {
  "kernelspec": {
   "display_name": "Python 3.7.11 ('base')",
   "language": "python",
   "name": "python3"
  },
  "language_info": {
   "codemirror_mode": {
    "name": "ipython",
    "version": 3
   },
   "file_extension": ".py",
   "mimetype": "text/x-python",
   "name": "python",
   "nbconvert_exporter": "python",
   "pygments_lexer": "ipython3",
   "version": "3.7.11"
  },
  "orig_nbformat": 4,
  "vscode": {
   "interpreter": {
    "hash": "40d3a090f54c6569ab1632332b64b2c03c39dcf918b08424e98f38b5ae0af88f"
   }
  }
 },
 "nbformat": 4,
 "nbformat_minor": 2
}
