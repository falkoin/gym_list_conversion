{
 "cells": [
  {
   "cell_type": "markdown",
   "metadata": {},
   "source": [
    "# DAT test"
   ]
  },
  {
   "cell_type": "code",
   "execution_count": 1,
   "metadata": {},
   "outputs": [],
   "source": [
    "import pandas as pd\n",
    "import plotly.express as px\n",
    "import os\n",
    "import sqlite3\n",
    "import hashlib"
   ]
  },
  {
   "cell_type": "code",
   "execution_count": 16,
   "metadata": {},
   "outputs": [],
   "source": [
    "# dataFolder = \"/Users/falkowork/Downloads/2021_wch_baku/men/\"\n",
    "# db_name = \"2021_world_championships_men\"\n",
    "dataFolder = \"/Users/falkowork/Downloads/2021_wch_baku/women/\"\n",
    "db_name = \"2021_world_championships_women\"\n",
    "sortedList = sorted(os.listdir(dataFolder))\n",
    "header = ('Start Number', \"Gender\", \"Country\", \"Phase\", \"Routine\", \"Name\", \"Hash\")\n",
    "df_main = pd.DataFrame(columns=header)\n",
    "connection = sqlite3.connect(\"trampoline.db\")\n",
    "cursor = connection.cursor()"
   ]
  },
  {
   "cell_type": "code",
   "execution_count": 17,
   "metadata": {},
   "outputs": [],
   "source": [
    "idx = 0\n",
    "for dataset in sortedList:\n",
    "    if not \".DS_Store\" in dataset:\n",
    "        idx += 1\n",
    "        # print(idx)\n",
    "        datContent = [i.strip().split() for i in open(dataFolder + dataset).readlines()]\n",
    "        trampoline_data = datContent[4:14]\n",
    "        athelte_data = datContent[68:76]\n",
    "        df_trampoline = pd.DataFrame(trampoline_data)\n",
    "        df_trampoline.drop([0, 1, 3], axis=1,inplace=True)\n",
    "        header = (\"T\", \"H\", \"x\", \"y\")\n",
    "        df_trampoline.columns = header\n",
    "        df = pd.DataFrame(athelte_data)\n",
    "        df.drop([0], axis=1,inplace=True)\n",
    "        \n",
    "            \n",
    "        df = df.T\n",
    "        df.columns = df.iloc[0].values\n",
    "        df.drop([1], axis=0,inplace=True)\n",
    "        df.reset_index(inplace=True)\n",
    "        if isinstance(df[\"firstName\"][1], str):\n",
    "            df.iloc[0,3] = df[\"firstName\"][0] + ' ' + df[\"firstName\"][1]\n",
    "        elif isinstance(df[\"lastName\"][1], str):\n",
    "            df.iloc[0,5] = df[\"lastName\"][0] + ' ' + df[\"lastName\"][1]\n",
    "\n",
    "        if df[\"routine\"][1] == \"1\":\n",
    "            df.iloc[0,8] = \"1st\"\n",
    "        elif df[\"routine\"][1] == \"2\":\n",
    "            df.iloc[0,8] = \"2nd\"\n",
    "\n",
    "        if df[\"phase\"][0] == \"Individual\":\n",
    "            df.iloc[0,7] = \"Final\"\n",
    "\n",
    "        df.drop([1], axis=0,inplace=True)\n",
    "\n",
    "        df[\"Name\"] = df[\"lastName\"] + \" \" + df[\"firstName\"]\n",
    "        df.drop(['index', 'discipline', 'lastName', 'firstName'], axis=1,inplace=True)\n",
    "        hash_val = hashlib.md5(dataset.encode('UTF-8')).hexdigest()\n",
    "        df[\"Hash\"] = hash_val\n",
    "\n",
    "        df_trampoline.to_sql(name=hash_val, con=connection)\n",
    "\n",
    "        header = ('Start Number', \"Gender\", \"Country\", \"Phase\", \"Routine\", \"Name\", \"Hash\")\n",
    "        df.columns = header\n",
    "        df_main = pd.concat([df_main, df])\n",
    "\n",
    "df_main.to_sql(name=db_name, con=connection)\n",
    "connection.close()"
   ]
  },
  {
   "cell_type": "code",
   "execution_count": 117,
   "metadata": {},
   "outputs": [
    {
     "data": {
      "text/html": [
       "<div>\n",
       "<style scoped>\n",
       "    .dataframe tbody tr th:only-of-type {\n",
       "        vertical-align: middle;\n",
       "    }\n",
       "\n",
       "    .dataframe tbody tr th {\n",
       "        vertical-align: top;\n",
       "    }\n",
       "\n",
       "    .dataframe thead th {\n",
       "        text-align: right;\n",
       "    }\n",
       "</style>\n",
       "<table border=\"1\" class=\"dataframe\">\n",
       "  <thead>\n",
       "    <tr style=\"text-align: right;\">\n",
       "      <th></th>\n",
       "      <th>2</th>\n",
       "      <th>4</th>\n",
       "      <th>5</th>\n",
       "      <th>6</th>\n",
       "      <th>7</th>\n",
       "      <th>8</th>\n",
       "    </tr>\n",
       "  </thead>\n",
       "  <tbody>\n",
       "    <tr>\n",
       "      <th>0</th>\n",
       "      <td>0.1</td>\n",
       "      <td>0.1</td>\n",
       "      <td>0.9</td>\n",
       "      <td>0.12</td>\n",
       "      <td>0.88</td>\n",
       "      <td>0.050</td>\n",
       "    </tr>\n",
       "    <tr>\n",
       "      <th>1</th>\n",
       "      <td>None</td>\n",
       "      <td>None</td>\n",
       "      <td>None</td>\n",
       "      <td>None</td>\n",
       "      <td>None</td>\n",
       "      <td>None</td>\n",
       "    </tr>\n",
       "    <tr>\n",
       "      <th>2</th>\n",
       "      <td>None</td>\n",
       "      <td>None</td>\n",
       "      <td>None</td>\n",
       "      <td>None</td>\n",
       "      <td>None</td>\n",
       "      <td>None</td>\n",
       "    </tr>\n",
       "    <tr>\n",
       "      <th>3</th>\n",
       "      <td>None</td>\n",
       "      <td>None</td>\n",
       "      <td>None</td>\n",
       "      <td>None</td>\n",
       "      <td>None</td>\n",
       "      <td>None</td>\n",
       "    </tr>\n",
       "    <tr>\n",
       "      <th>4</th>\n",
       "      <td>None</td>\n",
       "      <td>None</td>\n",
       "      <td>None</td>\n",
       "      <td>None</td>\n",
       "      <td>None</td>\n",
       "      <td>None</td>\n",
       "    </tr>\n",
       "    <tr>\n",
       "      <th>5</th>\n",
       "      <td>None</td>\n",
       "      <td>None</td>\n",
       "      <td>None</td>\n",
       "      <td>None</td>\n",
       "      <td>None</td>\n",
       "      <td>None</td>\n",
       "    </tr>\n",
       "    <tr>\n",
       "      <th>6</th>\n",
       "      <td>None</td>\n",
       "      <td>None</td>\n",
       "      <td>None</td>\n",
       "      <td>None</td>\n",
       "      <td>None</td>\n",
       "      <td>None</td>\n",
       "    </tr>\n",
       "    <tr>\n",
       "      <th>7</th>\n",
       "      <td>None</td>\n",
       "      <td>None</td>\n",
       "      <td>None</td>\n",
       "      <td>None</td>\n",
       "      <td>None</td>\n",
       "      <td>None</td>\n",
       "    </tr>\n",
       "    <tr>\n",
       "      <th>8</th>\n",
       "      <td>None</td>\n",
       "      <td>None</td>\n",
       "      <td>None</td>\n",
       "      <td>None</td>\n",
       "      <td>None</td>\n",
       "      <td>None</td>\n",
       "    </tr>\n",
       "    <tr>\n",
       "      <th>9</th>\n",
       "      <td>None</td>\n",
       "      <td>None</td>\n",
       "      <td>None</td>\n",
       "      <td>None</td>\n",
       "      <td>None</td>\n",
       "      <td>None</td>\n",
       "    </tr>\n",
       "  </tbody>\n",
       "</table>\n",
       "</div>"
      ],
      "text/plain": [
       "      2     4     5     6     7      8\n",
       "0   0.1   0.1   0.9  0.12  0.88  0.050\n",
       "1  None  None  None  None  None   None\n",
       "2  None  None  None  None  None   None\n",
       "3  None  None  None  None  None   None\n",
       "4  None  None  None  None  None   None\n",
       "5  None  None  None  None  None   None\n",
       "6  None  None  None  None  None   None\n",
       "7  None  None  None  None  None   None\n",
       "8  None  None  None  None  None   None\n",
       "9  None  None  None  None  None   None"
      ]
     },
     "execution_count": 117,
     "metadata": {},
     "output_type": "execute_result"
    }
   ],
   "source": [
    "trampoline_data = datContent[4:14]\n",
    "df_trampoline = pd.DataFrame(trampoline_data)\n",
    "df_trampoline.drop([0, 1, 3], axis=1,inplace=True)\n",
    "df_trampoline\n"
   ]
  },
  {
   "cell_type": "code",
   "execution_count": 171,
   "metadata": {},
   "outputs": [
    {
     "data": {
      "text/plain": [
       "[['-0.069', 'bib', '26'],\n",
       " ['-0.069', 'discipline', 'Trampoline'],\n",
       " ['-0.069', 'firstName', 'Langyu'],\n",
       " ['-0.069', 'gender', 'Men'],\n",
       " ['-0.069', 'lastName', 'Yan'],\n",
       " ['-0.069', 'noc', 'CHN'],\n",
       " ['-0.069', 'phase', 'Individual', 'Final']]"
      ]
     },
     "execution_count": 171,
     "metadata": {},
     "output_type": "execute_result"
    }
   ],
   "source": [
    "athelte_data\n",
    "\n"
   ]
  },
  {
   "cell_type": "code",
   "execution_count": 62,
   "metadata": {},
   "outputs": [],
   "source": [
    "df_trampoline[df_trampoline==None] = "
   ]
  },
  {
   "cell_type": "code",
   "execution_count": 98,
   "metadata": {},
   "outputs": [],
   "source": [
    "df = pd.DataFrame(athelte_data)\n",
    "df.drop([0], axis=1,inplace=True)\n",
    "df = df.T\n",
    "df.columns = df.iloc[0].values\n",
    "df.drop([1], axis=0,inplace=True)\n",
    "df.reset_index(inplace=True)\n",
    "df[\"firstName\"].loc[0] = df[\"firstName\"][0] + ' ' + df[\"firstName\"][1]\n",
    "df.drop([1], axis=0,inplace=True)"
   ]
  },
  {
   "cell_type": "code",
   "execution_count": 215,
   "metadata": {},
   "outputs": [
    {
     "data": {
      "text/html": [
       "<div>\n",
       "<style scoped>\n",
       "    .dataframe tbody tr th:only-of-type {\n",
       "        vertical-align: middle;\n",
       "    }\n",
       "\n",
       "    .dataframe tbody tr th {\n",
       "        vertical-align: top;\n",
       "    }\n",
       "\n",
       "    .dataframe thead th {\n",
       "        text-align: right;\n",
       "    }\n",
       "</style>\n",
       "<table border=\"1\" class=\"dataframe\">\n",
       "  <thead>\n",
       "    <tr style=\"text-align: right;\">\n",
       "      <th></th>\n",
       "      <th>bib</th>\n",
       "      <th>gender</th>\n",
       "      <th>noc</th>\n",
       "      <th>phase</th>\n",
       "      <th>routine</th>\n",
       "      <th>Name</th>\n",
       "      <th>Hash</th>\n",
       "    </tr>\n",
       "  </thead>\n",
       "  <tbody>\n",
       "    <tr>\n",
       "      <th>0</th>\n",
       "      <td>235</td>\n",
       "      <td>Men</td>\n",
       "      <td>BEL</td>\n",
       "      <td>Qualification</td>\n",
       "      <td>1st</td>\n",
       "      <td>Debacker Simon</td>\n",
       "      <td>27608db1b3824c165f99852281081525</td>\n",
       "    </tr>\n",
       "  </tbody>\n",
       "</table>\n",
       "</div>"
      ],
      "text/plain": [
       "   bib gender  noc          phase routine            Name  \\\n",
       "0  235    Men  BEL  Qualification     1st  Debacker Simon   \n",
       "\n",
       "                               Hash  \n",
       "0  27608db1b3824c165f99852281081525  "
      ]
     },
     "execution_count": 215,
     "metadata": {},
     "output_type": "execute_result"
    }
   ],
   "source": [
    "df"
   ]
  },
  {
   "cell_type": "code",
   "execution_count": 109,
   "metadata": {},
   "outputs": [
    {
     "data": {
      "text/plain": [
       "str"
      ]
     },
     "execution_count": 109,
     "metadata": {},
     "output_type": "execute_result"
    }
   ],
   "source": [
    "type(df[\"lastName\"][1])"
   ]
  },
  {
   "cell_type": "code",
   "execution_count": 123,
   "metadata": {},
   "outputs": [
    {
     "data": {
      "text/plain": [
       "'20211119_111128_TUR1_TUR_Turkey_Routine 1.dat'"
      ]
     },
     "execution_count": 123,
     "metadata": {},
     "output_type": "execute_result"
    }
   ],
   "source": [
    "dataset"
   ]
  },
  {
   "cell_type": "code",
   "execution_count": 133,
   "metadata": {},
   "outputs": [
    {
     "data": {
      "text/plain": [
       "'20211120_151637_126_GBR_Perzamanos_Zak_Routine 1.dat'"
      ]
     },
     "execution_count": 133,
     "metadata": {},
     "output_type": "execute_result"
    }
   ],
   "source": [
    "dataset"
   ]
  },
  {
   "cell_type": "code",
   "execution_count": 136,
   "metadata": {},
   "outputs": [
    {
     "data": {
      "text/html": [
       "<div>\n",
       "<style scoped>\n",
       "    .dataframe tbody tr th:only-of-type {\n",
       "        vertical-align: middle;\n",
       "    }\n",
       "\n",
       "    .dataframe tbody tr th {\n",
       "        vertical-align: top;\n",
       "    }\n",
       "\n",
       "    .dataframe thead th {\n",
       "        text-align: right;\n",
       "    }\n",
       "</style>\n",
       "<table border=\"1\" class=\"dataframe\">\n",
       "  <thead>\n",
       "    <tr style=\"text-align: right;\">\n",
       "      <th></th>\n",
       "      <th>Start Number</th>\n",
       "      <th>Gender</th>\n",
       "      <th>Country</th>\n",
       "      <th>Phase</th>\n",
       "      <th>Name</th>\n",
       "      <th>Data</th>\n",
       "    </tr>\n",
       "  </thead>\n",
       "  <tbody>\n",
       "    <tr>\n",
       "      <th>0</th>\n",
       "      <td>235</td>\n",
       "      <td>Men</td>\n",
       "      <td>BEL</td>\n",
       "      <td>Qualification</td>\n",
       "      <td>Simon Debacker</td>\n",
       "      <td>T    H     x    y\n",
       "0  1.885  1.0    43  ...</td>\n",
       "    </tr>\n",
       "    <tr>\n",
       "      <th>0</th>\n",
       "      <td>180</td>\n",
       "      <td>Men</td>\n",
       "      <td>TUR</td>\n",
       "      <td>Qualification</td>\n",
       "      <td>Gurkan Mutlu</td>\n",
       "      <td>T    H     x    y\n",
       "0  1.995  1.0    12  ...</td>\n",
       "    </tr>\n",
       "    <tr>\n",
       "      <th>0</th>\n",
       "      <td>68</td>\n",
       "      <td>Men</td>\n",
       "      <td>POR</td>\n",
       "      <td>Qualification</td>\n",
       "      <td>Pedro Ferreira</td>\n",
       "      <td>T    H     x   y\n",
       "0  1.970  1.0   -12   ...</td>\n",
       "    </tr>\n",
       "    <tr>\n",
       "      <th>0</th>\n",
       "      <td>144</td>\n",
       "      <td>Men</td>\n",
       "      <td>JPN</td>\n",
       "      <td>Qualification</td>\n",
       "      <td>Ryosuke Sakai</td>\n",
       "      <td>T    H     x    y\n",
       "0  1.925  1.0   -11  ...</td>\n",
       "    </tr>\n",
       "    <tr>\n",
       "      <th>0</th>\n",
       "      <td>241</td>\n",
       "      <td>Men</td>\n",
       "      <td>TUR</td>\n",
       "      <td>Qualification</td>\n",
       "      <td>Emre Yagmur</td>\n",
       "      <td>T     H     x     y\n",
       "0  1.730   1.0    -...</td>\n",
       "    </tr>\n",
       "    <tr>\n",
       "      <th>...</th>\n",
       "      <td>...</td>\n",
       "      <td>...</td>\n",
       "      <td>...</td>\n",
       "      <td>...</td>\n",
       "      <td>...</td>\n",
       "      <td>...</td>\n",
       "    </tr>\n",
       "    <tr>\n",
       "      <th>0</th>\n",
       "      <td>215</td>\n",
       "      <td>Men</td>\n",
       "      <td>JPN</td>\n",
       "      <td>Individual</td>\n",
       "      <td>Ryusei Nishioka</td>\n",
       "      <td>T    H     x    y\n",
       "0  1.860  1.0    37  ...</td>\n",
       "    </tr>\n",
       "    <tr>\n",
       "      <th>0</th>\n",
       "      <td>146</td>\n",
       "      <td>Men</td>\n",
       "      <td>BLR</td>\n",
       "      <td>Individual</td>\n",
       "      <td>Andrei Builou</td>\n",
       "      <td>T    H     x    y\n",
       "0  1.805  1.0    41  ...</td>\n",
       "    </tr>\n",
       "    <tr>\n",
       "      <th>0</th>\n",
       "      <td>224</td>\n",
       "      <td>Men</td>\n",
       "      <td>BLR</td>\n",
       "      <td>Individual</td>\n",
       "      <td>Aleh Rabtsau</td>\n",
       "      <td>T    H     x    y\n",
       "0  1.880  0.9    64  ...</td>\n",
       "    </tr>\n",
       "    <tr>\n",
       "      <th>0</th>\n",
       "      <td>20</td>\n",
       "      <td>Men</td>\n",
       "      <td>NZL</td>\n",
       "      <td>Individual</td>\n",
       "      <td>Dylan Schmidt</td>\n",
       "      <td>T    H    x    y\n",
       "0  1.760  1.0  -11   1...</td>\n",
       "    </tr>\n",
       "    <tr>\n",
       "      <th>0</th>\n",
       "      <td>26</td>\n",
       "      <td>Men</td>\n",
       "      <td>CHN</td>\n",
       "      <td>Individual</td>\n",
       "      <td>Langyu Yan</td>\n",
       "      <td>T    H     x    y\n",
       "0  1.875  1.0    -4  ...</td>\n",
       "    </tr>\n",
       "  </tbody>\n",
       "</table>\n",
       "<p>188 rows × 6 columns</p>\n",
       "</div>"
      ],
      "text/plain": [
       "   Start Number Gender Country          Phase             Name  \\\n",
       "0           235    Men     BEL  Qualification   Simon Debacker   \n",
       "0           180    Men     TUR  Qualification     Gurkan Mutlu   \n",
       "0            68    Men     POR  Qualification   Pedro Ferreira   \n",
       "0           144    Men     JPN  Qualification    Ryosuke Sakai   \n",
       "0           241    Men     TUR  Qualification      Emre Yagmur   \n",
       "..          ...    ...     ...            ...              ...   \n",
       "0           215    Men     JPN     Individual  Ryusei Nishioka   \n",
       "0           146    Men     BLR     Individual    Andrei Builou   \n",
       "0           224    Men     BLR     Individual     Aleh Rabtsau   \n",
       "0            20    Men     NZL     Individual    Dylan Schmidt   \n",
       "0            26    Men     CHN     Individual       Langyu Yan   \n",
       "\n",
       "                                                 Data  \n",
       "0          T    H     x    y\n",
       "0  1.885  1.0    43  ...  \n",
       "0          T    H     x    y\n",
       "0  1.995  1.0    12  ...  \n",
       "0          T    H     x   y\n",
       "0  1.970  1.0   -12   ...  \n",
       "0          T    H     x    y\n",
       "0  1.925  1.0   -11  ...  \n",
       "0          T     H     x     y\n",
       "0  1.730   1.0    -...  \n",
       "..                                                ...  \n",
       "0          T    H     x    y\n",
       "0  1.860  1.0    37  ...  \n",
       "0          T    H     x    y\n",
       "0  1.805  1.0    41  ...  \n",
       "0          T    H     x    y\n",
       "0  1.880  0.9    64  ...  \n",
       "0          T    H    x    y\n",
       "0  1.760  1.0  -11   1...  \n",
       "0          T    H     x    y\n",
       "0  1.875  1.0    -4  ...  \n",
       "\n",
       "[188 rows x 6 columns]"
      ]
     },
     "execution_count": 136,
     "metadata": {},
     "output_type": "execute_result"
    }
   ],
   "source": [
    "df_main"
   ]
  },
  {
   "cell_type": "code",
   "execution_count": 138,
   "metadata": {},
   "outputs": [
    {
     "name": "stderr",
     "output_type": "stream",
     "text": [
      "/opt/anaconda3/lib/python3.7/site-packages/pandas/core/generic.py:2882: UserWarning:\n",
      "\n",
      "The spaces in these column names will not be changed. In pandas versions < 0.14, spaces were converted to underscores.\n",
      "\n"
     ]
    },
    {
     "ename": "InterfaceError",
     "evalue": "Error binding parameter 6 - probably unsupported type.",
     "output_type": "error",
     "traceback": [
      "\u001b[0;31m---------------------------------------------------------------------------\u001b[0m",
      "\u001b[0;31mInterfaceError\u001b[0m                            Traceback (most recent call last)",
      "\u001b[0;32m/var/folders/j8/4ddprkx52x3f2x85fg7w74k00000gn/T/ipykernel_12554/1567912663.py\u001b[0m in \u001b[0;36m<module>\u001b[0;34m\u001b[0m\n\u001b[1;32m      1\u001b[0m \u001b[0mconnection\u001b[0m \u001b[0;34m=\u001b[0m \u001b[0msqlite3\u001b[0m\u001b[0;34m.\u001b[0m\u001b[0mconnect\u001b[0m\u001b[0;34m(\u001b[0m\u001b[0;34m\"trampoline.db\"\u001b[0m\u001b[0;34m)\u001b[0m\u001b[0;34m\u001b[0m\u001b[0;34m\u001b[0m\u001b[0m\n\u001b[1;32m      2\u001b[0m \u001b[0mcursor\u001b[0m \u001b[0;34m=\u001b[0m \u001b[0mconnection\u001b[0m\u001b[0;34m.\u001b[0m\u001b[0mcursor\u001b[0m\u001b[0;34m(\u001b[0m\u001b[0;34m)\u001b[0m\u001b[0;34m\u001b[0m\u001b[0;34m\u001b[0m\u001b[0m\n\u001b[0;32m----> 3\u001b[0;31m \u001b[0mdf_main\u001b[0m\u001b[0;34m.\u001b[0m\u001b[0mto_sql\u001b[0m\u001b[0;34m(\u001b[0m\u001b[0mname\u001b[0m\u001b[0;34m=\u001b[0m\u001b[0;34m\"2021_world_championship_men\"\u001b[0m\u001b[0;34m,\u001b[0m \u001b[0mcon\u001b[0m\u001b[0;34m=\u001b[0m\u001b[0mconnection\u001b[0m\u001b[0;34m)\u001b[0m\u001b[0;34m\u001b[0m\u001b[0;34m\u001b[0m\u001b[0m\n\u001b[0m\u001b[1;32m      4\u001b[0m \u001b[0mconnection\u001b[0m\u001b[0;34m.\u001b[0m\u001b[0mclose\u001b[0m\u001b[0;34m(\u001b[0m\u001b[0;34m)\u001b[0m\u001b[0;34m\u001b[0m\u001b[0;34m\u001b[0m\u001b[0m\n",
      "\u001b[0;32m/opt/anaconda3/lib/python3.7/site-packages/pandas/core/generic.py\u001b[0m in \u001b[0;36mto_sql\u001b[0;34m(self, name, con, schema, if_exists, index, index_label, chunksize, dtype, method)\u001b[0m\n\u001b[1;32m   2880\u001b[0m             \u001b[0mchunksize\u001b[0m\u001b[0;34m=\u001b[0m\u001b[0mchunksize\u001b[0m\u001b[0;34m,\u001b[0m\u001b[0;34m\u001b[0m\u001b[0;34m\u001b[0m\u001b[0m\n\u001b[1;32m   2881\u001b[0m             \u001b[0mdtype\u001b[0m\u001b[0;34m=\u001b[0m\u001b[0mdtype\u001b[0m\u001b[0;34m,\u001b[0m\u001b[0;34m\u001b[0m\u001b[0;34m\u001b[0m\u001b[0m\n\u001b[0;32m-> 2882\u001b[0;31m             \u001b[0mmethod\u001b[0m\u001b[0;34m=\u001b[0m\u001b[0mmethod\u001b[0m\u001b[0;34m,\u001b[0m\u001b[0;34m\u001b[0m\u001b[0;34m\u001b[0m\u001b[0m\n\u001b[0m\u001b[1;32m   2883\u001b[0m         )\n\u001b[1;32m   2884\u001b[0m \u001b[0;34m\u001b[0m\u001b[0m\n",
      "\u001b[0;32m/opt/anaconda3/lib/python3.7/site-packages/pandas/io/sql.py\u001b[0m in \u001b[0;36mto_sql\u001b[0;34m(frame, name, con, schema, if_exists, index, index_label, chunksize, dtype, method, engine, **engine_kwargs)\u001b[0m\n\u001b[1;32m    726\u001b[0m         \u001b[0mmethod\u001b[0m\u001b[0;34m=\u001b[0m\u001b[0mmethod\u001b[0m\u001b[0;34m,\u001b[0m\u001b[0;34m\u001b[0m\u001b[0;34m\u001b[0m\u001b[0m\n\u001b[1;32m    727\u001b[0m         \u001b[0mengine\u001b[0m\u001b[0;34m=\u001b[0m\u001b[0mengine\u001b[0m\u001b[0;34m,\u001b[0m\u001b[0;34m\u001b[0m\u001b[0;34m\u001b[0m\u001b[0m\n\u001b[0;32m--> 728\u001b[0;31m         \u001b[0;34m**\u001b[0m\u001b[0mengine_kwargs\u001b[0m\u001b[0;34m,\u001b[0m\u001b[0;34m\u001b[0m\u001b[0;34m\u001b[0m\u001b[0m\n\u001b[0m\u001b[1;32m    729\u001b[0m     )\n\u001b[1;32m    730\u001b[0m \u001b[0;34m\u001b[0m\u001b[0m\n",
      "\u001b[0;32m/opt/anaconda3/lib/python3.7/site-packages/pandas/io/sql.py\u001b[0m in \u001b[0;36mto_sql\u001b[0;34m(self, frame, name, if_exists, index, index_label, schema, chunksize, dtype, method, **kwargs)\u001b[0m\n\u001b[1;32m   2224\u001b[0m         )\n\u001b[1;32m   2225\u001b[0m         \u001b[0mtable\u001b[0m\u001b[0;34m.\u001b[0m\u001b[0mcreate\u001b[0m\u001b[0;34m(\u001b[0m\u001b[0;34m)\u001b[0m\u001b[0;34m\u001b[0m\u001b[0;34m\u001b[0m\u001b[0m\n\u001b[0;32m-> 2226\u001b[0;31m         \u001b[0mtable\u001b[0m\u001b[0;34m.\u001b[0m\u001b[0minsert\u001b[0m\u001b[0;34m(\u001b[0m\u001b[0mchunksize\u001b[0m\u001b[0;34m,\u001b[0m \u001b[0mmethod\u001b[0m\u001b[0;34m)\u001b[0m\u001b[0;34m\u001b[0m\u001b[0;34m\u001b[0m\u001b[0m\n\u001b[0m\u001b[1;32m   2227\u001b[0m \u001b[0;34m\u001b[0m\u001b[0m\n\u001b[1;32m   2228\u001b[0m     \u001b[0;32mdef\u001b[0m \u001b[0mhas_table\u001b[0m\u001b[0;34m(\u001b[0m\u001b[0mself\u001b[0m\u001b[0;34m,\u001b[0m \u001b[0mname\u001b[0m\u001b[0;34m:\u001b[0m \u001b[0mstr\u001b[0m\u001b[0;34m,\u001b[0m \u001b[0mschema\u001b[0m\u001b[0;34m:\u001b[0m \u001b[0mstr\u001b[0m \u001b[0;34m|\u001b[0m \u001b[0;32mNone\u001b[0m \u001b[0;34m=\u001b[0m \u001b[0;32mNone\u001b[0m\u001b[0;34m)\u001b[0m\u001b[0;34m:\u001b[0m\u001b[0;34m\u001b[0m\u001b[0;34m\u001b[0m\u001b[0m\n",
      "\u001b[0;32m/opt/anaconda3/lib/python3.7/site-packages/pandas/io/sql.py\u001b[0m in \u001b[0;36minsert\u001b[0;34m(self, chunksize, method)\u001b[0m\n\u001b[1;32m    965\u001b[0m \u001b[0;34m\u001b[0m\u001b[0m\n\u001b[1;32m    966\u001b[0m                 \u001b[0mchunk_iter\u001b[0m \u001b[0;34m=\u001b[0m \u001b[0mzip\u001b[0m\u001b[0;34m(\u001b[0m\u001b[0;34m*\u001b[0m\u001b[0;34m[\u001b[0m\u001b[0marr\u001b[0m\u001b[0;34m[\u001b[0m\u001b[0mstart_i\u001b[0m\u001b[0;34m:\u001b[0m\u001b[0mend_i\u001b[0m\u001b[0;34m]\u001b[0m \u001b[0;32mfor\u001b[0m \u001b[0marr\u001b[0m \u001b[0;32min\u001b[0m \u001b[0mdata_list\u001b[0m\u001b[0;34m]\u001b[0m\u001b[0;34m)\u001b[0m\u001b[0;34m\u001b[0m\u001b[0;34m\u001b[0m\u001b[0m\n\u001b[0;32m--> 967\u001b[0;31m                 \u001b[0mexec_insert\u001b[0m\u001b[0;34m(\u001b[0m\u001b[0mconn\u001b[0m\u001b[0;34m,\u001b[0m \u001b[0mkeys\u001b[0m\u001b[0;34m,\u001b[0m \u001b[0mchunk_iter\u001b[0m\u001b[0;34m)\u001b[0m\u001b[0;34m\u001b[0m\u001b[0;34m\u001b[0m\u001b[0m\n\u001b[0m\u001b[1;32m    968\u001b[0m \u001b[0;34m\u001b[0m\u001b[0m\n\u001b[1;32m    969\u001b[0m     def _query_iterator(\n",
      "\u001b[0;32m/opt/anaconda3/lib/python3.7/site-packages/pandas/io/sql.py\u001b[0m in \u001b[0;36m_execute_insert\u001b[0;34m(self, conn, keys, data_iter)\u001b[0m\n\u001b[1;32m   1922\u001b[0m     \u001b[0;32mdef\u001b[0m \u001b[0m_execute_insert\u001b[0m\u001b[0;34m(\u001b[0m\u001b[0mself\u001b[0m\u001b[0;34m,\u001b[0m \u001b[0mconn\u001b[0m\u001b[0;34m,\u001b[0m \u001b[0mkeys\u001b[0m\u001b[0;34m,\u001b[0m \u001b[0mdata_iter\u001b[0m\u001b[0;34m)\u001b[0m\u001b[0;34m:\u001b[0m\u001b[0;34m\u001b[0m\u001b[0;34m\u001b[0m\u001b[0m\n\u001b[1;32m   1923\u001b[0m         \u001b[0mdata_list\u001b[0m \u001b[0;34m=\u001b[0m \u001b[0mlist\u001b[0m\u001b[0;34m(\u001b[0m\u001b[0mdata_iter\u001b[0m\u001b[0;34m)\u001b[0m\u001b[0;34m\u001b[0m\u001b[0;34m\u001b[0m\u001b[0m\n\u001b[0;32m-> 1924\u001b[0;31m         \u001b[0mconn\u001b[0m\u001b[0;34m.\u001b[0m\u001b[0mexecutemany\u001b[0m\u001b[0;34m(\u001b[0m\u001b[0mself\u001b[0m\u001b[0;34m.\u001b[0m\u001b[0minsert_statement\u001b[0m\u001b[0;34m(\u001b[0m\u001b[0mnum_rows\u001b[0m\u001b[0;34m=\u001b[0m\u001b[0;36m1\u001b[0m\u001b[0;34m)\u001b[0m\u001b[0;34m,\u001b[0m \u001b[0mdata_list\u001b[0m\u001b[0;34m)\u001b[0m\u001b[0;34m\u001b[0m\u001b[0;34m\u001b[0m\u001b[0m\n\u001b[0m\u001b[1;32m   1925\u001b[0m \u001b[0;34m\u001b[0m\u001b[0m\n\u001b[1;32m   1926\u001b[0m     \u001b[0;32mdef\u001b[0m \u001b[0m_execute_insert_multi\u001b[0m\u001b[0;34m(\u001b[0m\u001b[0mself\u001b[0m\u001b[0;34m,\u001b[0m \u001b[0mconn\u001b[0m\u001b[0;34m,\u001b[0m \u001b[0mkeys\u001b[0m\u001b[0;34m,\u001b[0m \u001b[0mdata_iter\u001b[0m\u001b[0;34m)\u001b[0m\u001b[0;34m:\u001b[0m\u001b[0;34m\u001b[0m\u001b[0;34m\u001b[0m\u001b[0m\n",
      "\u001b[0;31mInterfaceError\u001b[0m: Error binding parameter 6 - probably unsupported type."
     ]
    }
   ],
   "source": []
  },
  {
   "cell_type": "code",
   "execution_count": 148,
   "metadata": {},
   "outputs": [
    {
     "name": "stdout",
     "output_type": "stream",
     "text": [
      "8a6c531f8df79c697d569b2156902639\n"
     ]
    }
   ],
   "source": [
    "hash_object = hashlib.md5(dataset.encode('UTF-8'))\n",
    "print(hash_object.hexdigest())"
   ]
  },
  {
   "cell_type": "code",
   "execution_count": 144,
   "metadata": {},
   "outputs": [
    {
     "data": {
      "text/plain": [
       "'d20211121_162556_26_CHN_Yan_Langyu_Routine 1.dat'"
      ]
     },
     "execution_count": 144,
     "metadata": {},
     "output_type": "execute_result"
    }
   ],
   "source": [
    "'d{0}'.format(dataset)"
   ]
  },
  {
   "cell_type": "code",
   "execution_count": null,
   "metadata": {},
   "outputs": [],
   "source": [
    "hash_object = hashlib.md5(b'Hello World')\n",
    "print(hash_object.hexdigest())\n",
    "\n"
   ]
  },
  {
   "cell_type": "code",
   "execution_count": 167,
   "metadata": {},
   "outputs": [
    {
     "ename": "OperationalError",
     "evalue": "no such table: 2021_world_championship_men",
     "output_type": "error",
     "traceback": [
      "\u001b[0;31m---------------------------------------------------------------------------\u001b[0m",
      "\u001b[0;31mOperationalError\u001b[0m                          Traceback (most recent call last)",
      "\u001b[0;32m/var/folders/j8/4ddprkx52x3f2x85fg7w74k00000gn/T/ipykernel_12554/2080982319.py\u001b[0m in \u001b[0;36m<module>\u001b[0;34m\u001b[0m\n\u001b[1;32m      1\u001b[0m \u001b[0msql\u001b[0m \u001b[0;34m=\u001b[0m \u001b[0;34m\"DROP TABLE '2021_world_championship_men'\"\u001b[0m\u001b[0;34m\u001b[0m\u001b[0;34m\u001b[0m\u001b[0m\n\u001b[1;32m      2\u001b[0m \u001b[0;34m\u001b[0m\u001b[0m\n\u001b[0;32m----> 3\u001b[0;31m \u001b[0mcursor\u001b[0m\u001b[0;34m.\u001b[0m\u001b[0mexecute\u001b[0m\u001b[0;34m(\u001b[0m\u001b[0msql\u001b[0m\u001b[0;34m)\u001b[0m\u001b[0;34m\u001b[0m\u001b[0;34m\u001b[0m\u001b[0m\n\u001b[0m\u001b[1;32m      4\u001b[0m \u001b[0mconnection\u001b[0m\u001b[0;34m.\u001b[0m\u001b[0mclose\u001b[0m\u001b[0;34m(\u001b[0m\u001b[0;34m)\u001b[0m\u001b[0;34m\u001b[0m\u001b[0;34m\u001b[0m\u001b[0m\n",
      "\u001b[0;31mOperationalError\u001b[0m: no such table: 2021_world_championship_men"
     ]
    }
   ],
   "source": [
    "sql = \"DROP TABLE '2021_world_championship_men'\"\n",
    "\n",
    "cursor.execute(sql) \n"
   ]
  },
  {
   "cell_type": "code",
   "execution_count": 168,
   "metadata": {},
   "outputs": [],
   "source": [
    "connection.close()"
   ]
  },
  {
   "cell_type": "code",
   "execution_count": 12,
   "metadata": {},
   "outputs": [],
   "source": [
    "dataset = \"20211118_101605_235_BEL_Debacker_Simon_Routine 1.dat\"\n",
    "datContent = [i.strip().split() for i in open(dataFolder + dataset).readlines()]\n",
    "trampoline_data = datContent[4:14]\n",
    "athelte_data = datContent[68:76]\n",
    "df_trampoline = pd.DataFrame(trampoline_data)\n",
    "df_trampoline.drop([0, 1, 3], axis=1,inplace=True)\n",
    "header = (\"T\", \"H\", \"x\", \"y\")\n",
    "df_trampoline.columns = header\n",
    "df = pd.DataFrame(athelte_data)\n",
    "df.drop([0], axis=1,inplace=True)\n",
    "\n",
    "    \n",
    "df = df.T\n",
    "df.columns = df.iloc[0].values\n",
    "df.drop([1], axis=0,inplace=True)\n",
    "df.reset_index(inplace=True)\n",
    "# if isinstance(df[\"firstName\"][1], str):\n",
    "#     df.iloc[0,3] = df[\"firstName\"][0] + ' ' + df[\"firstName\"][1]\n",
    "# elif isinstance(df[\"lastName\"][1], str):\n",
    "#     df.iloc[0,5] = df[\"lastName\"][0] + ' ' + df[\"lastName\"][1]\n",
    "# if df[\"routine\"][1] == \"1\":\n",
    "#     df.iloc[0,8] = \"1st\"\n",
    "# elif df[\"routine\"][1] == \"2\":\n",
    "#     df.iloc[0,8] = \"2nd\"\n",
    "# df.drop([1], axis=0,inplace=True)\n",
    "# df[\"Name\"] = df[\"lastName\"] + \" \" + df[\"firstName\"]\n",
    "# df.drop(['index', 'discipline', 'lastName', 'firstName'], axis=1,inplace=True)"
   ]
  },
  {
   "cell_type": "code",
   "execution_count": 173,
   "metadata": {},
   "outputs": [],
   "source": [
    "df_trampoline = pd.DataFrame(trampoline_data)"
   ]
  },
  {
   "cell_type": "code",
   "execution_count": 178,
   "metadata": {},
   "outputs": [],
   "source": [
    "df = pd.DataFrame(athelte_data)"
   ]
  },
  {
   "cell_type": "code",
   "execution_count": 211,
   "metadata": {},
   "outputs": [
    {
     "data": {
      "text/html": [
       "<div>\n",
       "<style scoped>\n",
       "    .dataframe tbody tr th:only-of-type {\n",
       "        vertical-align: middle;\n",
       "    }\n",
       "\n",
       "    .dataframe tbody tr th {\n",
       "        vertical-align: top;\n",
       "    }\n",
       "\n",
       "    .dataframe thead th {\n",
       "        text-align: right;\n",
       "    }\n",
       "</style>\n",
       "<table border=\"1\" class=\"dataframe\">\n",
       "  <thead>\n",
       "    <tr style=\"text-align: right;\">\n",
       "      <th></th>\n",
       "      <th>index</th>\n",
       "      <th>bib</th>\n",
       "      <th>discipline</th>\n",
       "      <th>firstName</th>\n",
       "      <th>gender</th>\n",
       "      <th>lastName</th>\n",
       "      <th>noc</th>\n",
       "      <th>phase</th>\n",
       "      <th>routine</th>\n",
       "    </tr>\n",
       "  </thead>\n",
       "  <tbody>\n",
       "    <tr>\n",
       "      <th>0</th>\n",
       "      <td>2</td>\n",
       "      <td>235</td>\n",
       "      <td>Trampoline</td>\n",
       "      <td>Simon</td>\n",
       "      <td>Men</td>\n",
       "      <td>Debacker</td>\n",
       "      <td>BEL</td>\n",
       "      <td>Qualification</td>\n",
       "      <td>1st</td>\n",
       "    </tr>\n",
       "  </tbody>\n",
       "</table>\n",
       "</div>"
      ],
      "text/plain": [
       "   index  bib  discipline firstName gender  lastName  noc          phase  \\\n",
       "0      2  235  Trampoline     Simon    Men  Debacker  BEL  Qualification   \n",
       "\n",
       "  routine  \n",
       "0     1st  "
      ]
     },
     "execution_count": 211,
     "metadata": {},
     "output_type": "execute_result"
    }
   ],
   "source": [
    "df"
   ]
  },
  {
   "cell_type": "code",
   "execution_count": 204,
   "metadata": {},
   "outputs": [
    {
     "data": {
      "text/plain": [
       "0          Routine\n",
       "Routine        1st\n",
       "Name: routine, dtype: object"
      ]
     },
     "execution_count": 204,
     "metadata": {},
     "output_type": "execute_result"
    }
   ],
   "source": [
    "df[\"routine\"]"
   ]
  },
  {
   "cell_type": "code",
   "execution_count": 4,
   "metadata": {},
   "outputs": [],
   "source": [
    "df_main.to_sql(name=db_name, con=connection)\n",
    "connection.close()"
   ]
  },
  {
   "cell_type": "code",
   "execution_count": 5,
   "metadata": {},
   "outputs": [
    {
     "data": {
      "text/html": [
       "<div>\n",
       "<style scoped>\n",
       "    .dataframe tbody tr th:only-of-type {\n",
       "        vertical-align: middle;\n",
       "    }\n",
       "\n",
       "    .dataframe tbody tr th {\n",
       "        vertical-align: top;\n",
       "    }\n",
       "\n",
       "    .dataframe thead th {\n",
       "        text-align: right;\n",
       "    }\n",
       "</style>\n",
       "<table border=\"1\" class=\"dataframe\">\n",
       "  <thead>\n",
       "    <tr style=\"text-align: right;\">\n",
       "      <th></th>\n",
       "      <th>Start Number</th>\n",
       "      <th>Gender</th>\n",
       "      <th>Country</th>\n",
       "      <th>Phase</th>\n",
       "      <th>Routine</th>\n",
       "      <th>Name</th>\n",
       "      <th>Hash</th>\n",
       "    </tr>\n",
       "  </thead>\n",
       "  <tbody>\n",
       "    <tr>\n",
       "      <th>0</th>\n",
       "      <td>93</td>\n",
       "      <td>Women</td>\n",
       "      <td>CHN</td>\n",
       "      <td>Individual</td>\n",
       "      <td>1st</td>\n",
       "      <td>Cao Yunzhu</td>\n",
       "      <td>02368519f422700ed97e630c460d83a5</td>\n",
       "    </tr>\n",
       "  </tbody>\n",
       "</table>\n",
       "</div>"
      ],
      "text/plain": [
       "  Start Number Gender Country       Phase Routine        Name  \\\n",
       "0           93  Women     CHN  Individual     1st  Cao Yunzhu   \n",
       "\n",
       "                               Hash  \n",
       "0  02368519f422700ed97e630c460d83a5  "
      ]
     },
     "execution_count": 5,
     "metadata": {},
     "output_type": "execute_result"
    }
   ],
   "source": [
    "df"
   ]
  },
  {
   "cell_type": "code",
   "execution_count": 13,
   "metadata": {},
   "outputs": [
    {
     "data": {
      "text/html": [
       "<div>\n",
       "<style scoped>\n",
       "    .dataframe tbody tr th:only-of-type {\n",
       "        vertical-align: middle;\n",
       "    }\n",
       "\n",
       "    .dataframe tbody tr th {\n",
       "        vertical-align: top;\n",
       "    }\n",
       "\n",
       "    .dataframe thead th {\n",
       "        text-align: right;\n",
       "    }\n",
       "</style>\n",
       "<table border=\"1\" class=\"dataframe\">\n",
       "  <thead>\n",
       "    <tr style=\"text-align: right;\">\n",
       "      <th></th>\n",
       "      <th>index</th>\n",
       "      <th>bib</th>\n",
       "      <th>discipline</th>\n",
       "      <th>firstName</th>\n",
       "      <th>gender</th>\n",
       "      <th>lastName</th>\n",
       "      <th>noc</th>\n",
       "      <th>phase</th>\n",
       "      <th>routine</th>\n",
       "    </tr>\n",
       "  </thead>\n",
       "  <tbody>\n",
       "    <tr>\n",
       "      <th>0</th>\n",
       "      <td>2</td>\n",
       "      <td>235</td>\n",
       "      <td>Trampoline</td>\n",
       "      <td>Simon</td>\n",
       "      <td>Men</td>\n",
       "      <td>Debacker</td>\n",
       "      <td>BEL</td>\n",
       "      <td>Qualification</td>\n",
       "      <td>Routine</td>\n",
       "    </tr>\n",
       "    <tr>\n",
       "      <th>1</th>\n",
       "      <td>3</td>\n",
       "      <td>None</td>\n",
       "      <td>None</td>\n",
       "      <td>None</td>\n",
       "      <td>None</td>\n",
       "      <td>None</td>\n",
       "      <td>None</td>\n",
       "      <td>None</td>\n",
       "      <td>1</td>\n",
       "    </tr>\n",
       "  </tbody>\n",
       "</table>\n",
       "</div>"
      ],
      "text/plain": [
       "   index   bib  discipline firstName gender  lastName   noc          phase  \\\n",
       "0      2   235  Trampoline     Simon    Men  Debacker   BEL  Qualification   \n",
       "1      3  None        None      None   None      None  None           None   \n",
       "\n",
       "   routine  \n",
       "0  Routine  \n",
       "1        1  "
      ]
     },
     "execution_count": 13,
     "metadata": {},
     "output_type": "execute_result"
    }
   ],
   "source": [
    "df"
   ]
  },
  {
   "cell_type": "code",
   "execution_count": null,
   "metadata": {},
   "outputs": [],
   "source": []
  }
 ],
 "metadata": {
  "kernelspec": {
   "display_name": "Python 3.7.11 ('base')",
   "language": "python",
   "name": "python3"
  },
  "language_info": {
   "codemirror_mode": {
    "name": "ipython",
    "version": 3
   },
   "file_extension": ".py",
   "mimetype": "text/x-python",
   "name": "python",
   "nbconvert_exporter": "python",
   "pygments_lexer": "ipython3",
   "version": "3.7.11"
  },
  "orig_nbformat": 4,
  "vscode": {
   "interpreter": {
    "hash": "40d3a090f54c6569ab1632332b64b2c03c39dcf918b08424e98f38b5ae0af88f"
   }
  }
 },
 "nbformat": 4,
 "nbformat_minor": 2
}
