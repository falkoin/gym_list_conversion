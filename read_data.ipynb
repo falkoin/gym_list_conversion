{
 "cells": [
  {
   "cell_type": "markdown",
   "metadata": {},
   "source": [
    "# From PDF to csv"
   ]
  },
  {
   "cell_type": "markdown",
   "metadata": {},
   "source": [
    "### Imports"
   ]
  },
  {
   "cell_type": "code",
   "execution_count": 7,
   "metadata": {},
   "outputs": [],
   "source": [
    "\n",
    "import pandas as pd\n",
    "import os\n",
    "from more_itertools import strip\n",
    "\n",
    "\n"
   ]
  },
  {
   "cell_type": "markdown",
   "metadata": {},
   "source": [
    "### Run shell script to extract "
   ]
  },
  {
   "cell_type": "code",
   "execution_count": 79,
   "metadata": {},
   "outputs": [
    {
     "name": "stdout",
     "output_type": "stream",
     "text": [
      "GPL Ghostscript 9.50 (2019-10-15)\n",
      "Copyright (C) 2019 Artifex Software, Inc.  All rights reserved.\n",
      "This software is supplied under the GNU AGPLv3 and comes with NO WARRANTY:\n",
      "see the file COPYING for details.\n",
      "Processing pages 48 through 48.\n",
      "Page 48\n",
      "Loading NimbusSans-Regular font from /usr/local/share/ghostscript/9.50/Resource/Font/NimbusSans-Regular... 5186120 3642336 4374344 2890677 4 done.\n"
     ]
    },
    {
     "data": {
      "text/plain": [
       "0"
      ]
     },
     "execution_count": 79,
     "metadata": {},
     "output_type": "execute_result"
    }
   ],
   "source": [
    "n_jumps = 2\n",
    "# first_page = '28'\n",
    "# last_page = '30'\n",
    "# output_name = '../GTR_2021WCH_Baku_Results_Women_Qual'\n",
    "# input_name = '\"../2021 WCH_Baku/Load_Comp_Data.pdf\"'\n",
    "\n",
    "# first_page = '34'\n",
    "# last_page = '37'\n",
    "# output_name = '2022_Rimini_Results_Women_Qual'\n",
    "# input_name = '\"28TH EUROPEAN CHAMPIONSHIPS IN TRAMPOLINE GYMNASTICS 2022 Rimini Media.pdf\"'\n",
    "\n",
    "# first_page = '45'\n",
    "# last_page = '45'\n",
    "# output_name = '2022_Rimini_Results_Women_Qual2'\n",
    "# input_name = '\"28TH EUROPEAN CHAMPIONSHIPS IN TRAMPOLINE GYMNASTICS 2022 Rimini Media.pdf\"'\n",
    "\n",
    "first_page = '48'\n",
    "last_page = '48'\n",
    "output_name = '2022_Rimini_Results_Women_Final'\n",
    "input_name = '\"28TH EUROPEAN CHAMPIONSHIPS IN TRAMPOLINE GYMNASTICS 2022 Rimini Media.pdf\"'\n",
    "\n",
    "os.system('gs -sDEVICE=txtwrite -dFirstPage=' + first_page + ' -dLastPage=' + last_page + ' -o ' + output_name + '.txt ' + input_name)"
   ]
  },
  {
   "cell_type": "markdown",
   "metadata": {},
   "source": [
    "### Read useful document lines\n",
    "\n",
    "International variant"
   ]
  },
  {
   "cell_type": "code",
   "execution_count": 74,
   "metadata": {},
   "outputs": [
    {
     "name": "stdout",
     "output_type": "stream",
     "text": [
      "[]\n"
     ]
    }
   ],
   "source": [
    "file1 = open(output_name + '.txt', 'r')\n",
    "Lines = file1.readlines()\n",
    "  \n",
    "count = 0\n",
    "entry_counts = []\n",
    "# Strips the newline character and more\n",
    "for line in Lines:\n",
    "    # stripped_line = line.strip()\n",
    "    if \"1st\" in line:\n",
    "        entry_counts.append(count)\n",
    "    elif \"2nd\" in line:\n",
    "        entry_counts.append(count)\n",
    "    count += 1\n",
    "    # print(\"Line{}: {}\".format(entry_counts, line))\n",
    "print(entry_counts)\n",
    "\n"
   ]
  },
  {
   "cell_type": "markdown",
   "metadata": {},
   "source": [
    "Europe variant"
   ]
  },
  {
   "cell_type": "code",
   "execution_count": 80,
   "metadata": {},
   "outputs": [
    {
     "name": "stdout",
     "output_type": "stream",
     "text": [
      "[9, 10, 11, 12, 13, 14, 15, 16]\n"
     ]
    }
   ],
   "source": [
    "file1 = open(output_name + '.txt', 'r')\n",
    "Lines = file1.readlines()\n",
    "  \n",
    "count = 0\n",
    "rank_count = 1\n",
    "entry_counts = []\n",
    "# Strips the newline character and more\n",
    "for line in Lines:\n",
    "    # stripped_line = line.strip()\n",
    "    stripped_line = line.strip().split()\n",
    "    if stripped_line[0] == str(rank_count) and len(stripped_line) > 8:\n",
    "        entry_counts.append(count)\n",
    "        rank_count += 1\n",
    "    count += 1\n",
    "print(entry_counts)\n",
    "\n"
   ]
  },
  {
   "cell_type": "code",
   "execution_count": 24,
   "metadata": {},
   "outputs": [],
   "source": [
    "header = (\"Rank\", \"Routine\", \"Name\", \"D\", \"E\", \"T\", \"H\", \"Pen.\", \"Total\", \"End\", \"Country\", \"Qualified\")\n",
    "df = pd.DataFrame(columns=header)"
   ]
  },
  {
   "cell_type": "markdown",
   "metadata": {},
   "source": [
    "International"
   ]
  },
  {
   "cell_type": "code",
   "execution_count": 18,
   "metadata": {},
   "outputs": [
    {
     "ename": "ValueError",
     "evalue": "could not convert string to float: 'PAGE'",
     "output_type": "error",
     "traceback": [
      "\u001b[0;31m---------------------------------------------------------------------------\u001b[0m",
      "\u001b[0;31mValueError\u001b[0m                                Traceback (most recent call last)",
      "\u001b[0;32m/var/folders/j8/4ddprkx52x3f2x85fg7w74k00000gn/T/ipykernel_16058/1485363369.py\u001b[0m in \u001b[0;36m<module>\u001b[0;34m\u001b[0m\n\u001b[1;32m     42\u001b[0m                       \u001b[0mcurrent_entry\u001b[0m\u001b[0;34m[\u001b[0m\u001b[0;36m0\u001b[0m\u001b[0;34m]\u001b[0m\u001b[0;34m,\u001b[0m\u001b[0;34m\u001b[0m\u001b[0;34m\u001b[0m\u001b[0m\n\u001b[1;32m     43\u001b[0m                       \u001b[0mname\u001b[0m\u001b[0;34m,\u001b[0m\u001b[0;34m\u001b[0m\u001b[0;34m\u001b[0m\u001b[0m\n\u001b[0;32m---> 44\u001b[0;31m                       \u001b[0mfloat\u001b[0m\u001b[0;34m(\u001b[0m\u001b[0mcurrent_entry\u001b[0m\u001b[0;34m[\u001b[0m\u001b[0;36m1\u001b[0m\u001b[0;34m]\u001b[0m\u001b[0;34m)\u001b[0m\u001b[0;34m,\u001b[0m\u001b[0;34m\u001b[0m\u001b[0;34m\u001b[0m\u001b[0m\n\u001b[0m\u001b[1;32m     45\u001b[0m                       \u001b[0mfloat\u001b[0m\u001b[0;34m(\u001b[0m\u001b[0mcurrent_entry\u001b[0m\u001b[0;34m[\u001b[0m\u001b[0;36m2\u001b[0m\u001b[0;34m]\u001b[0m\u001b[0;34m)\u001b[0m\u001b[0;34m,\u001b[0m\u001b[0;34m\u001b[0m\u001b[0;34m\u001b[0m\u001b[0m\n\u001b[1;32m     46\u001b[0m                       \u001b[0mfloat\u001b[0m\u001b[0;34m(\u001b[0m\u001b[0mcurrent_entry\u001b[0m\u001b[0;34m[\u001b[0m\u001b[0;36m3\u001b[0m\u001b[0;34m]\u001b[0m\u001b[0;34m)\u001b[0m\u001b[0;34m,\u001b[0m\u001b[0;34m\u001b[0m\u001b[0;34m\u001b[0m\u001b[0m\n",
      "\u001b[0;31mValueError\u001b[0m: could not convert string to float: 'PAGE'"
     ]
    }
   ],
   "source": [
    "\n",
    "df_pos = 0\n",
    "for entry in entry_counts:\n",
    "    \n",
    "    if df_pos%2 == 0:\n",
    "        corrector = 1\n",
    "    else:\n",
    "        corrector = -1\n",
    "\n",
    "    current_entry = Lines[entry].strip().split()\n",
    "    corrected_entry = Lines[entry+corrector].strip().split()\n",
    "\n",
    "    if len(current_entry) is 7:\n",
    "        penalty = 0.0\n",
    "        total = current_entry[5]\n",
    "    else:\n",
    "        penalty = current_entry[5]\n",
    "        total = current_entry[6]\n",
    "\n",
    "    if len(corrected_entry) is 6:\n",
    "        if len(corrected_entry[-1]) > 3:\n",
    "            qualified = \"\"\n",
    "            name = corrected_entry[1] + \" \" + corrected_entry[2] + \" \" + corrected_entry[3]\n",
    "            country = corrected_entry[5]\n",
    "            end_added = corrected_entry[4]\n",
    "        else:\n",
    "            qualified = corrected_entry[5]\n",
    "            name = corrected_entry[1] + \" \" + corrected_entry[2]\n",
    "            country = corrected_entry[4]\n",
    "            end_added = corrected_entry[3]\n",
    "    elif len(corrected_entry) is 7:\n",
    "        qualified = corrected_entry[6]\n",
    "        name = corrected_entry[1] + \" \" + corrected_entry[2] + \" \" + corrected_entry[3]\n",
    "        country = corrected_entry[5]\n",
    "        end_added = corrected_entry[4]\n",
    "    else:\n",
    "        qualified = \"\"\n",
    "        name = corrected_entry[1] + \" \" + corrected_entry[2]\n",
    "        country = corrected_entry[4]\n",
    "        end_added = corrected_entry[3]\n",
    "\n",
    "    df.loc[df_pos] = (int(corrected_entry[0]),\n",
    "                      current_entry[0],\n",
    "                      name,\n",
    "                      float(current_entry[1]), \n",
    "                      float(current_entry[2]),\n",
    "                      float(current_entry[3]),\n",
    "                      float(current_entry[4]),\n",
    "                      float(penalty),\n",
    "                      float(total),\n",
    "                      country,\n",
    "                      end_added,\n",
    "                      qualified\n",
    "                      )  \n",
    "    \n",
    "    if df_pos == len(entry_counts)-3:\n",
    "        break\n",
    "    df_pos += 1\n",
    "    "
   ]
  },
  {
   "cell_type": "markdown",
   "metadata": {},
   "source": [
    "Europe"
   ]
  },
  {
   "cell_type": "code",
   "execution_count": 61,
   "metadata": {},
   "outputs": [],
   "source": [
    "df_pos = 0\n",
    "for entry in entry_counts:\n",
    "\n",
    "    corrector = 1\n",
    "    current_entry = Lines[entry].strip().split()\n",
    "    corrected_entry = Lines[entry+corrector].strip().split()\n",
    "    \n",
    "    if len(current_entry) < 13:\n",
    "        rank = int(current_entry[0])\n",
    "        routine = current_entry[4]\n",
    "        name = current_entry[1] + ' ' + current_entry[2]\n",
    "        d = 0.00\n",
    "        e = 0.00\n",
    "        t = 0.00\n",
    "        h = 0.00\n",
    "        pen = 0.00\n",
    "        total = 0.00\n",
    "        end_score = current_entry[11]\n",
    "        country = current_entry[3]\n",
    "        if current_entry[-1].isupper():\n",
    "            qualified = current_entry[-1]\n",
    "        else:\n",
    "            qualified = ' '\n",
    "    elif current_entry[3].isupper() == False:\n",
    "        rank = int(current_entry[0])\n",
    "        routine = current_entry[5]\n",
    "        name = current_entry[1] + ' ' + current_entry[2] + ' ' + current_entry[3]\n",
    "        d = current_entry[8]\n",
    "        e = current_entry[6]\n",
    "        t = current_entry[7]\n",
    "        h = current_entry[9]\n",
    "        pen = current_entry[12]\n",
    "        total = current_entry[11]\n",
    "        end_score = current_entry[13]\n",
    "        country = current_entry[4]\n",
    "        if current_entry[-1].isupper():\n",
    "            qualified = current_entry[-1]\n",
    "        else:\n",
    "            qualified = ' '\n",
    "    else:\n",
    "        rank = int(current_entry[0])\n",
    "        routine = current_entry[4]\n",
    "        name = current_entry[1] + ' ' + current_entry[2]\n",
    "        d = current_entry[7]\n",
    "        e = current_entry[5]\n",
    "        t = current_entry[6]\n",
    "        h = current_entry[8]\n",
    "        pen = current_entry[11]\n",
    "        total = current_entry[10]\n",
    "        end_score = current_entry[12]\n",
    "        country = current_entry[3]\n",
    "        if current_entry[-1].isupper():\n",
    "            qualified = current_entry[-1]\n",
    "        else:\n",
    "            qualified = ' '\n",
    "\n",
    "\n",
    "    df.loc[df_pos] = (rank,\n",
    "                      routine,\n",
    "                      name,\n",
    "                      d, \n",
    "                      e,\n",
    "                      t,\n",
    "                      h,\n",
    "                      pen,\n",
    "                      end_score,\n",
    "                      country,\n",
    "                      end_added,\n",
    "                      qualified\n",
    "                      )  \n",
    "    \n",
    "    df_pos += 1\n",
    "    if len(corrected_entry) < 8:\n",
    "        routine = corrected_entry[0]\n",
    "        d = 0.00\n",
    "        e = 0.00\n",
    "        t = 0.00\n",
    "        h = 0.00\n",
    "        pen = 0.00\n",
    "        total = 0.00\n",
    "        end_score = current_entry[11]\n",
    "    elif len(current_entry) < 13:\n",
    "        routine = corrected_entry[0]\n",
    "        d = corrected_entry[3]\n",
    "        e = corrected_entry[1]\n",
    "        t = corrected_entry[2]\n",
    "        h = corrected_entry[4]\n",
    "        pen = corrected_entry[7]\n",
    "        total = corrected_entry[6]\n",
    "        end_score = current_entry[11]\n",
    "    else:\n",
    "        routine = corrected_entry[0]\n",
    "        d = corrected_entry[3]\n",
    "        e = corrected_entry[1]\n",
    "        t = corrected_entry[2]\n",
    "        h = corrected_entry[4]\n",
    "        pen = corrected_entry[7]\n",
    "        total = corrected_entry[6]\n",
    "        end_score = current_entry[12]\n",
    "\n",
    "    df.loc[df_pos] = (rank,\n",
    "                      routine,\n",
    "                      name,\n",
    "                      d, \n",
    "                      e,\n",
    "                      t,\n",
    "                      h,\n",
    "                      pen,\n",
    "                      end_score,\n",
    "                      country,\n",
    "                      end_added,\n",
    "                      qualified\n",
    "                      )  \n",
    "    \n",
    "    df_pos += 1\n",
    "    # header = (\"Rank\", \"Routine\", \"Name\", \"D\", \"E\", \"T\", \"H\", \"Pen.\", \"Total\", \"End\", \"Country\", \"Qualified\")\n",
    "    "
   ]
  },
  {
   "cell_type": "markdown",
   "metadata": {},
   "source": [
    "Europe one jump "
   ]
  },
  {
   "cell_type": "code",
   "execution_count": 81,
   "metadata": {},
   "outputs": [],
   "source": [
    "header = (\"Rank\", \"Routine\", \"Name\", \"D\", \"E\", \"T\", \"H\", \"Pen.\", \"Total\", \"Country\", \"Qualified\")\n",
    "df = pd.DataFrame(columns=header)\n",
    "\n",
    "df_pos = 0\n",
    "for entry in entry_counts:\n",
    "\n",
    "\n",
    "    current_entry = Lines[entry].strip().split()\n",
    "\n",
    "    if len(current_entry) < 13:\n",
    "        rank = int(current_entry[0])\n",
    "        routine = current_entry[4]\n",
    "        name = current_entry[1] + ' ' + current_entry[2]\n",
    "        d = 0.00\n",
    "        e = 0.00\n",
    "        t = 0.00\n",
    "        h = 0.00\n",
    "        pen = 0.00\n",
    "        total = 0.00\n",
    "        country = current_entry[3]\n",
    "        if current_entry[-1].isupper():\n",
    "            qualified = current_entry[-1]\n",
    "        else:\n",
    "            qualified = ' '\n",
    "    elif current_entry[3].isupper() == False:\n",
    "        rank = int(current_entry[0])\n",
    "        routine = current_entry[5]\n",
    "        name = current_entry[1] + ' ' + current_entry[2] + ' ' + current_entry[3]\n",
    "        d = current_entry[8]\n",
    "        e = current_entry[6]\n",
    "        t = current_entry[7]\n",
    "        h = current_entry[9]\n",
    "        pen = current_entry[12]\n",
    "        total = current_entry[11]\n",
    "        country = current_entry[4]\n",
    "        if current_entry[-1].isupper():\n",
    "            qualified = current_entry[-1]\n",
    "        else:\n",
    "            qualified = ' '\n",
    "    else:\n",
    "        rank = int(current_entry[0])\n",
    "        routine = current_entry[4]\n",
    "        name = current_entry[1] + ' ' + current_entry[2]\n",
    "        d = current_entry[7]\n",
    "        e = current_entry[5]\n",
    "        t = current_entry[6]\n",
    "        h = current_entry[8]\n",
    "        pen = current_entry[11]\n",
    "        total = current_entry[10]\n",
    "        country = current_entry[3]\n",
    "        if current_entry[-1].isupper():\n",
    "            qualified = current_entry[-1]\n",
    "        else:\n",
    "            qualified = ' '\n",
    "\n",
    "\n",
    "    df.loc[df_pos] = (rank,\n",
    "                      routine,\n",
    "                      name,\n",
    "                      d, \n",
    "                      e,\n",
    "                      t,\n",
    "                      h,\n",
    "                      pen,\n",
    "                      total,\n",
    "                      country,\n",
    "                      qualified\n",
    "                      )  \n",
    "    \n",
    "    df_pos += 1\n",
    "    # header = (\"Rank\", \"Routine\", \"Name\", \"D\", \"E\", \"T\", \"H\", \"Pen.\", \"Total\", \"End\", \"Country\", \"Qualified\")\n",
    "    "
   ]
  },
  {
   "cell_type": "markdown",
   "metadata": {},
   "source": [
    "Europe final"
   ]
  },
  {
   "cell_type": "code",
   "execution_count": 86,
   "metadata": {},
   "outputs": [],
   "source": [
    "header = (\"Rank\", \"Routine\", \"Name\", \"D\", \"E\", \"T\", \"H\", \"Pen.\", \"Total\", \"Country\")\n",
    "df = pd.DataFrame(columns=header)\n",
    "\n",
    "df_pos = 0\n",
    "for entry in entry_counts:\n",
    "\n",
    "    corrector = 1\n",
    "    current_entry = Lines[entry].strip().split()\n",
    "    corrected_entry = Lines[entry+corrector].strip().split()\n",
    "\n",
    "    if len(current_entry) < 11:\n",
    "        rank = int(current_entry[0])\n",
    "        routine = current_entry[4]\n",
    "        name = current_entry[1] + ' ' + current_entry[2]\n",
    "        d = 0.00\n",
    "        e = 0.00\n",
    "        t = 0.00\n",
    "        h = 0.00\n",
    "        pen = 0.00\n",
    "        total = 0.00\n",
    "        country = current_entry[3]\n",
    "    elif current_entry[3].isupper() == False:\n",
    "        rank = int(current_entry[0])\n",
    "        routine = current_entry[5]\n",
    "        name = current_entry[1] + ' ' + current_entry[2] + ' ' + current_entry[3]\n",
    "        d = current_entry[8]\n",
    "        e = current_entry[6]\n",
    "        t = current_entry[7]\n",
    "        h = current_entry[9]\n",
    "        pen = current_entry[10]\n",
    "        total = current_entry[11]\n",
    "        country = current_entry[4]\n",
    "    else:\n",
    "        rank = int(current_entry[0])\n",
    "        routine = current_entry[4]\n",
    "        name = current_entry[1] + ' ' + current_entry[2]\n",
    "        d = current_entry[7]\n",
    "        e = current_entry[5]\n",
    "        t = current_entry[6]\n",
    "        h = current_entry[8]\n",
    "        pen = current_entry[9]\n",
    "        total = current_entry[10]\n",
    "        country = current_entry[3]\n",
    "\n",
    "\n",
    "    df.loc[df_pos] = (rank,\n",
    "                      routine,\n",
    "                      name,\n",
    "                      d, \n",
    "                      e,\n",
    "                      t,\n",
    "                      h,\n",
    "                      pen,\n",
    "                      total,\n",
    "                      country,\n",
    "                      qualified\n",
    "                      )  \n",
    "    \n",
    "    df_pos += 1\n",
    "    # header = (\"Rank\", \"Routine\", \"Name\", \"D\", \"E\", \"T\", \"H\", \"Pen.\", \"Total\", \"End\", \"Country\", \"Qualified\")\n",
    "    "
   ]
  },
  {
   "cell_type": "code",
   "execution_count": 87,
   "metadata": {},
   "outputs": [],
   "source": [
    "\n",
    "df.to_csv(output_name + \".csv\", index=False)"
   ]
  },
  {
   "cell_type": "code",
   "execution_count": 68,
   "metadata": {},
   "outputs": [
    {
     "data": {
      "text/plain": [
       "'G'"
      ]
     },
     "execution_count": 68,
     "metadata": {},
     "output_type": "execute_result"
    }
   ],
   "source": [
    "qualified"
   ]
  },
  {
   "cell_type": "code",
   "execution_count": 78,
   "metadata": {},
   "outputs": [
    {
     "data": {
      "text/plain": [
       "'2022_Rimini_Results_Women_Qual2'"
      ]
     },
     "execution_count": 78,
     "metadata": {},
     "output_type": "execute_result"
    }
   ],
   "source": [
    "output_name"
   ]
  },
  {
   "cell_type": "code",
   "execution_count": null,
   "metadata": {},
   "outputs": [],
   "source": []
  }
 ],
 "metadata": {
  "kernelspec": {
   "display_name": "Python 3.7.11 ('base')",
   "language": "python",
   "name": "python3"
  },
  "language_info": {
   "codemirror_mode": {
    "name": "ipython",
    "version": 3
   },
   "file_extension": ".py",
   "mimetype": "text/x-python",
   "name": "python",
   "nbconvert_exporter": "python",
   "pygments_lexer": "ipython3",
   "version": "3.7.11"
  },
  "orig_nbformat": 4,
  "vscode": {
   "interpreter": {
    "hash": "40d3a090f54c6569ab1632332b64b2c03c39dcf918b08424e98f38b5ae0af88f"
   }
  }
 },
 "nbformat": 4,
 "nbformat_minor": 2
}
