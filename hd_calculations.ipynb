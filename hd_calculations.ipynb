{
 "cells": [
  {
   "cell_type": "markdown",
   "metadata": {},
   "source": [
    "# HD Calculations"
   ]
  },
  {
   "cell_type": "markdown",
   "metadata": {},
   "source": [
    "### Imports"
   ]
  },
  {
   "cell_type": "markdown",
   "metadata": {},
   "source": [
    "# HD hull"
   ]
  },
  {
   "cell_type": "code",
   "execution_count": 96,
   "metadata": {},
   "outputs": [],
   "source": [
    "import pandas as pd\n",
    "import plotly.express as px\n",
    "import os\n",
    "import sqlite3\n",
    "from scipy.spatial import ConvexHull\n",
    "import matplotlib.pyplot as plt\n",
    "import numpy as np"
   ]
  },
  {
   "cell_type": "markdown",
   "metadata": {},
   "source": [
    "## Functions"
   ]
  },
  {
   "cell_type": "code",
   "execution_count": 221,
   "metadata": {},
   "outputs": [],
   "source": [
    "def calcArea(in_area, in_hd):\n",
    "    m = 35\n",
    "    n = 35\n",
    "    x_min = np.array([-m, m, -m, m, -m, m, -m, m, -m, m])\n",
    "    y_min = np.array([-n, -n, n, n, -n, -n, n, n, -n, -n])\n",
    "    hull_min = ConvexHull(np.column_stack((x_min, y_min)))\n",
    "    a = 214\n",
    "    b = 107\n",
    "    x_max = np.array([-a, a, -a, a, -a, a, -a, a, -a, a])\n",
    "    y_max = np.array([-b, -b, b, b, -b, -b, b, b, -b, -b])\n",
    "    hull_max = ConvexHull(np.column_stack((x_max, y_max)))\n",
    "\n",
    "    hd_max = in_hd\n",
    "    slices = 11\n",
    "    hd_range = np.linspace(0, hd_max, slices)\n",
    "    # hd_range = np.append(hd_range, 5)\n",
    "    area_range = np.linspace(hull_min.volume, hull_max.volume, 10)\n",
    "    # print(hd_range)\n",
    "    # print(area_range)\n",
    "\n",
    "    below_range = np.sum(in_area > area_range)\n",
    "    # print(np.sum(in_area > area_range))\n",
    "    return(hd_range[below_range])\n",
    "\n",
    "\n",
    "def calcDistance(in_distance, in_hd):\n",
    "    m = 35\n",
    "    n = 35\n",
    "    x_min = np.array([-m, m, -m, m, 0, m, 0, m, 0, 0])\n",
    "    y_min = np.array([-n, -n, 0, 0, -n, -n, n, n, 0, 0])\n",
    "    optimum_distance = np.sum(np.sqrt(x_min**2+y_min**2)) \n",
    "\n",
    "    a = 214\n",
    "    b = 107\n",
    "    x_max = np.array([-a, a, -a, a, -107.5, 107.5, -107.5, 107.5, -a, a])\n",
    "    y_max = np.array([-b, -b, b, b, -b, -b, b, b, 0, 0])\n",
    "    worst_distance = np.sum(np.sqrt(x_max**2+y_max**2))\n",
    "\n",
    "    hd_max = in_hd\n",
    "    slices = 11\n",
    "    hd_range = np.linspace(0, hd_max, slices)\n",
    "    # hd_range = np.append(hd_range, 5)\n",
    "    area_range = np.linspace(optimum_distance, worst_distance, 10)\n",
    "    # print(hd_range)\n",
    "    # print(area_range)\n",
    "\n",
    "    below_range = np.sum(in_distance > area_range)\n",
    "    # print(np.sum(in_area > area_range))\n",
    "    return(hd_range[below_range])\n",
    "\n",
    "def calcError(x, y, in_hd):\n",
    "    m = 35\n",
    "    n = 35\n",
    "    x_min = np.array([-m, m, -m, m, 0, m, 0, m, 0, 0])\n",
    "    y_min = np.array([-n, -n, 0, 0, -n, -n, n, n, 0, 0])\n",
    "\n",
    "    distance = np.sqrt(x_min**2+2*y_min**2)\n",
    "    mean_distance = np.mean(distance)\n",
    "    ce = np.sum(distance)/len(x_min)\n",
    "    ve = np.sqrt(np.sum((distance - mean_distance)**2/len(x_min)))\n",
    "    optimum_error = ce + ve\n",
    "\n",
    "    a = 214\n",
    "    b = 107\n",
    "    x_max = np.array([-a, a, -a, a, -107.5, 107.5, -107.5, 107.5, -a, a])\n",
    "    y_max = np.array([-b, -b, b, b, -b, -b, b, b, 0, 0])\n",
    "\n",
    "    distance = np.sqrt(x_max**2+2*y_max**2)\n",
    "    mean_distance = np.mean(distance)\n",
    "    ce = np.sum(distance)/len(x_max)\n",
    "    ve = np.sqrt(np.sum((distance - mean_distance)**2/len(x_max)))\n",
    "    worst_distance = ce + ve\n",
    "\n",
    "    hd_max = in_hd\n",
    "    slices = 11\n",
    "    hd_range = np.linspace(0, hd_max, slices)\n",
    "    # hd_range = np.append(hd_range, 5)\n",
    "    area_range = np.linspace(optimum_distance, worst_distance, 10)\n",
    "    # print(hd_range)\n",
    "    # print(area_range)\n",
    "\n",
    "    below_range = np.sum(in_distance > area_range)\n",
    "    # print(np.sum(in_area > area_range))\n",
    "    return(hd_range[below_range])"
   ]
  },
  {
   "cell_type": "markdown",
   "metadata": {},
   "source": [
    "## SQL Database connection    "
   ]
  },
  {
   "cell_type": "code",
   "execution_count": 214,
   "metadata": {},
   "outputs": [],
   "source": [
    "connection = sqlite3.connect(\"trampoline.db\")\n",
    "cursor = connection.cursor()"
   ]
  },
  {
   "cell_type": "code",
   "execution_count": 215,
   "metadata": {},
   "outputs": [
    {
     "name": "stdout",
     "output_type": "stream",
     "text": [
      "0.3\n",
      "Volume exercise: 6207.0\n",
      "Volume min: 4900.0\n",
      "Volume max: 91592.0\n"
     ]
    },
    {
     "data": {
      "text/plain": [
       "[<matplotlib.lines.Line2D at 0x7fbf1140eb90>]"
      ]
     },
     "execution_count": 215,
     "metadata": {},
     "output_type": "execute_result"
    },
    {
     "data": {
      "image/png": "[encoded data removed]",
      "text/plain": [
       "<Figure size 432x288 with 1 Axes>"
      ]
     },
     "metadata": {
      "needs_background": "light"
     },
     "output_type": "display_data"
    }
   ],
   "source": [
    "sql_str = \"SELECT * from 'ed63e921b45f7b0137a59d2958912b22'\"\n",
    "df_exercisedata = pd.read_sql(sql_str, connection)\n",
    "df_exercisedata['x'] = df_exercisedata.apply(lambda x: int(x['x']), axis=1)\n",
    "x = df_exercisedata[['x']].values\n",
    "df_exercisedata['y'] = df_exercisedata.apply(lambda x: int(x['y']), axis=1)\n",
    "y = df_exercisedata[['y']].values\n",
    "hull = ConvexHull(df_exercisedata[['x','y']])\n",
    "hd = calcArea(hull.volume, in_hd=3)\n",
    "print(hd)\n",
    "\n",
    "plt.scatter(x, y)\n",
    "plt.plot(x[hull.vertices], y[hull.vertices], 'r--', lw=2)\n",
    "\n",
    "plt.plot(x[hull.vertices[0]], y[hull.vertices[0]], 'ro', alpha=0.5)\n",
    "\n",
    "m = 35\n",
    "n = 35\n",
    "x_min = np.array([-m, m, -m, m, -m, m, -m, m, -m, m])\n",
    "y_min = np.array([-n, -n, n, n, -n, -n, n, n, -n, -n])\n",
    "hull_min = ConvexHull(np.column_stack((x_min, y_min)))\n",
    "print('Volume exercise: {0}'.format(hull.volume))\n",
    "print('Volume min: {0}'.format(hull_min.volume))\n",
    "plt.scatter(x_min, y_min)\n",
    "plt.plot(x_min[hull_min.vertices], y_min[hull_min.vertices], 'r--', lw=2)\n",
    "x_max = np.array([-214, 214, -214, 214, -214, 214, -214, 214, -214, 214])\n",
    "y_max = np.array([-107, -107, 107, 107, -107, -107, 107, 107, -107, -107])\n",
    "hull_max = ConvexHull(np.column_stack((x_max, y_max)))\n",
    "print('Volume max: {0}'.format(hull_max.volume))\n",
    "plt.scatter(x_max, y_max)\n",
    "plt.plot(x_max[hull_max.vertices], y_max[hull_max.vertices], 'r--', lw=2)"
   ]
  },
  {
   "cell_type": "markdown",
   "metadata": {},
   "source": [
    "# HD Distance"
   ]
  },
  {
   "cell_type": "code",
   "execution_count": 223,
   "metadata": {},
   "outputs": [
    {
     "data": {
      "text/plain": [
       "1.0"
      ]
     },
     "execution_count": 223,
     "metadata": {},
     "output_type": "execute_result"
    }
   ],
   "source": [
    "m = 35\n",
    "n = 35\n",
    "x_min = np.array([-m, m, -m, m, 0, m, 0, m, 0, 0])\n",
    "y_min = np.array([-n, -n, 0, 0, -n, -n, n, n, 0, 0])\n",
    "optimum_distance = np.sum(np.sqrt(x_min**2+y_min**2)) \n",
    "\n",
    "a = 214\n",
    "b = 107\n",
    "x_max = np.array([-a, a, -a, a, -107.5, 107.5, -107.5, 107.5, -a, a])\n",
    "y_max = np.array([-b, -b, b, b, -b, -b, b, b, 0, 0])\n",
    "worst_distance = np.sum(np.sqrt(x_max**2+y_max**2)) \n",
    "\n",
    "calcDistance(np.sum(np.sqrt(df_exercisedata['x']**2+df_exercisedata['y']**2)), 5)"
   ]
  },
  {
   "cell_type": "markdown",
   "metadata": {},
   "source": [
    "# HD Error"
   ]
  },
  {
   "cell_type": "code",
   "execution_count": 228,
   "metadata": {},
   "outputs": [],
   "source": [
    "distance = np.sqrt(x**2+2*y**2)\n",
    "mean_distance = np.mean(distance)\n",
    "ce = np.sum(distance)/len(x)\n",
    "ve = np.sqrt(np.sum((distance - mean_distance)**2/len(x)))"
   ]
  },
  {
   "cell_type": "code",
   "execution_count": 230,
   "metadata": {},
   "outputs": [
    {
     "data": {
      "text/plain": [
       "66.5556913034548"
      ]
     },
     "execution_count": 230,
     "metadata": {},
     "output_type": "execute_result"
    }
   ],
   "source": [
    "ce"
   ]
  },
  {
   "cell_type": "code",
   "execution_count": 232,
   "metadata": {},
   "outputs": [
    {
     "data": {
      "text/plain": [
       "101.24488205676053"
      ]
     },
     "execution_count": 232,
     "metadata": {},
     "output_type": "execute_result"
    }
   ],
   "source": [
    "ve+ce"
   ]
  },
  {
   "cell_type": "code",
   "execution_count": null,
   "metadata": {},
   "outputs": [],
   "source": []
  }
 ],
 "metadata": {
  "kernelspec": {
   "display_name": "Python 3.7.11 ('base')",
   "language": "python",
   "name": "python3"
  },
  "language_info": {
   "codemirror_mode": {
    "name": "ipython",
    "version": 3
   },
   "file_extension": ".py",
   "mimetype": "text/x-python",
   "name": "python",
   "nbconvert_exporter": "python",
   "pygments_lexer": "ipython3",
   "version": "3.7.11"
  },
  "orig_nbformat": 4,
  "vscode": {
   "interpreter": {
    "hash": "40d3a090f54c6569ab1632332b64b2c03c39dcf918b08424e98f38b5ae0af88f"
   }
  }
 },
 "nbformat": 4,
 "nbformat_minor": 2
}
