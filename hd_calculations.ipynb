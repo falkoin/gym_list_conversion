{
 "cells": [
  {
   "cell_type": "markdown",
   "metadata": {},
   "source": [
    "# HD Calculations"
   ]
  },
  {
   "cell_type": "markdown",
   "metadata": {},
   "source": [
    "### Imports"
   ]
  },
  {
   "cell_type": "markdown",
   "metadata": {},
   "source": [
    "# HD hull"
   ]
  },
  {
   "cell_type": "code",
   "execution_count": 96,
   "metadata": {},
   "outputs": [],
   "source": [
    "import pandas as pd\n",
    "import plotly.express as px\n",
    "import os\n",
    "import sqlite3\n",
    "from scipy.spatial import ConvexHull\n",
    "import matplotlib.pyplot as plt\n",
    "import numpy as np"
   ]
  },
  {
   "cell_type": "markdown",
   "metadata": {},
   "source": [
    "## Functions"
   ]
  },
  {
   "cell_type": "code",
   "execution_count": 179,
   "metadata": {},
   "outputs": [],
   "source": [
    "def calcArea(in_area, in_hd):\n",
    "    m = 35\n",
    "    n = 35\n",
    "    x_min = np.array([-m, m, -m, m, -m, m, -m, m, -m, m])\n",
    "    y_min = np.array([-n, -n, n, n, -n, -n, n, n, -n, -n])\n",
    "    hull_min = ConvexHull(np.column_stack((x_min, y_min)))\n",
    "    a = 214\n",
    "    b = 107\n",
    "    x_min = np.array([-a, a, -a, a, -a, a, -a, a, -a, a])\n",
    "    y_min = np.array([-b, -b, b, b, -b, -b, b, b, -b, -b])\n",
    "    hull_max = ConvexHull(np.column_stack((x_max, y_max)))\n",
    "\n",
    "    hd_max = in_hd\n",
    "    slices = 11\n",
    "    hd_range = np.linspace(0, hd_max, slices)\n",
    "    # hd_range = np.append(hd_range, 5)\n",
    "    area_range = np.linspace(hull_min.volume, hull_max.volume, 10)\n",
    "    # print(hd_range)\n",
    "    # print(area_range)\n",
    "\n",
    "    below_range = np.sum(in_area > area_range)\n",
    "    # print(np.sum(in_area > area_range))\n",
    "    return(hd_range[below_range])\n"
   ]
  },
  {
   "cell_type": "markdown",
   "metadata": {},
   "source": [
    "## SQL Database connection    "
   ]
  },
  {
   "cell_type": "code",
   "execution_count": 3,
   "metadata": {},
   "outputs": [],
   "source": [
    "connection = sqlite3.connect(\"trampoline.db\")\n",
    "cursor = connection.cursor()"
   ]
  },
  {
   "cell_type": "code",
   "execution_count": 182,
   "metadata": {},
   "outputs": [
    {
     "name": "stdout",
     "output_type": "stream",
     "text": [
      "Volume exercise: 4108.5\n",
      "Volume min: 4900.0\n",
      "Volume max: 91592.0\n"
     ]
    },
    {
     "data": {
      "text/plain": [
       "[<matplotlib.lines.Line2D at 0x7fbf11809510>]"
      ]
     },
     "execution_count": 182,
     "metadata": {},
     "output_type": "execute_result"
    },
    {
     "data": {
      "image/png": "[encoded data removed]",
      "text/plain": [
       "<Figure size 432x288 with 1 Axes>"
      ]
     },
     "metadata": {
      "needs_background": "light"
     },
     "output_type": "display_data"
    }
   ],
   "source": [
    "sql_str = \"SELECT * from '02368519f422700ed97e630c460d83a5'\"\n",
    "df_exercisedata = pd.read_sql(sql_str, connection)\n",
    "df_exercisedata['x'] = df_exercisedata.apply(lambda x: int(x['x']), axis=1)\n",
    "x = df_exercisedata[['x']].values\n",
    "df_exercisedata['y'] = df_exercisedata.apply(lambda x: int(x['y']), axis=1)\n",
    "y = df_exercisedata[['y']].values\n",
    "hull = ConvexHull(df_exercisedata[['x','y']])\n",
    "hd = calcArea(hull.volume, in_hd=3)\n",
    "hd\n",
    "\n",
    "plt.scatter(x, y)\n",
    "plt.plot(x[hull.vertices], y[hull.vertices], 'r--', lw=2)\n",
    "\n",
    "plt.plot(x[hull.vertices[0]], y[hull.vertices[0]], 'ro', alpha=0.5)\n",
    "\n",
    "m = 35\n",
    "n = 35\n",
    "x_min = np.array([-m, m, -m, m, -m, m, -m, m, -m, m])\n",
    "y_min = np.array([-n, -n, n, n, -n, -n, n, n, -n, -n])\n",
    "hull_min = ConvexHull(np.column_stack((x_min, y_min)))\n",
    "print('Volume exercise: {0}'.format(hull.volume))\n",
    "print('Volume min: {0}'.format(hull_min.volume))\n",
    "plt.scatter(x_min, y_min)\n",
    "plt.plot(x_min[hull_min.vertices], y_min[hull_min.vertices], 'r--', lw=2)\n",
    "x_max = np.array([-214, 214, -214, 214, -214, 214, -214, 214, -214, 214])\n",
    "y_max = np.array([-107, -107, 107, 107, -107, -107, 107, 107, -107, -107])\n",
    "hull_max = ConvexHull(np.column_stack((x_max, y_max)))\n",
    "print('Volume max: {0}'.format(hull_max.volume))\n",
    "plt.scatter(x_max, y_max)\n",
    "plt.plot(x_max[hull_max.vertices], y_max[hull_max.vertices], 'r--', lw=2)"
   ]
  },
  {
   "cell_type": "code",
   "execution_count": 77,
   "metadata": {},
   "outputs": [
    {
     "data": {
      "text/plain": [
       "333.79799622311066"
      ]
     },
     "execution_count": 77,
     "metadata": {},
     "output_type": "execute_result"
    }
   ],
   "source": [
    "hull.area"
   ]
  },
  {
   "cell_type": "code",
   "execution_count": 83,
   "metadata": {},
   "outputs": [
    {
     "data": {
      "image/png": "[encoded data removed]",
      "text/plain": [
       "<Figure size 432x288 with 1 Axes>"
      ]
     },
     "metadata": {
      "needs_background": "light"
     },
     "output_type": "display_data"
    }
   ],
   "source": [
    "plt.scatter(x,y)\n",
    "plt.plot(x[hull.vertices], y[hull.vertices], 'r--', lw=2)\n",
    "\n",
    "plt.plot(x[hull.vertices[0]], y[hull.vertices[0]], 'ro', alpha=0.5)\n",
    "\n",
    "plt.show()"
   ]
  },
  {
   "cell_type": "code",
   "execution_count": 78,
   "metadata": {},
   "outputs": [
    {
     "data": {
      "image/png": "[encoded data removed]",
      "text/plain": [
       "<Figure size 432x288 with 1 Axes>"
      ]
     },
     "metadata": {
      "needs_background": "light"
     },
     "output_type": "display_data"
    }
   ],
   "source": []
  },
  {
   "cell_type": "code",
   "execution_count": 126,
   "metadata": {},
   "outputs": [
    {
     "name": "stdout",
     "output_type": "stream",
     "text": [
      "Volume min: 4900.0\n",
      "Volume max: 91592.0\n"
     ]
    },
    {
     "data": {
      "text/plain": [
       "[<matplotlib.lines.Line2D at 0x7fbf11cff850>]"
      ]
     },
     "execution_count": 126,
     "metadata": {},
     "output_type": "execute_result"
    },
    {
     "data": {
      "image/png": "[encoded data removed]",
      "text/plain": [
       "<Figure size 432x288 with 1 Axes>"
      ]
     },
     "metadata": {
      "needs_background": "light"
     },
     "output_type": "display_data"
    }
   ],
   "source": [
    "m = 35\n",
    "n = 35\n",
    "x_min = np.array([-m, m, -m, m, -m, m, -m, m, -m, m])\n",
    "y_min = np.array([-n, -n, n, n, -n, -n, n, n, -n, -n])\n",
    "hull_min = ConvexHull(np.column_stack((x, y)))\n",
    "print('Volume min: {0}'.format(hull_min.volume))\n",
    "plt.scatter(x_min,y_min)\n",
    "plt.plot(x_min[hull_min.vertices], y_min[hull_min.vertices], 'r--', lw=2)\n",
    "x_max = np.array([-214, 214, -214, 214, -214, 214, -214, 214, -214, 214])\n",
    "y_max = np.array([-107, -107, 107, 107, -107, -107, 107, 107, -107, -107])\n",
    "hull_max = ConvexHull(np.column_stack((x_max, y_max)))\n",
    "print('Volume max: {0}'.format(hull_max.volume))\n",
    "plt.scatter(x_max,y_max)\n",
    "plt.plot(x_max[hull_min.vertices], y_max[hull_min.vertices], 'r--', lw=2)"
   ]
  },
  {
   "cell_type": "code",
   "execution_count": 131,
   "metadata": {},
   "outputs": [],
   "source": [
    "hd_max = 3\n",
    "hd = np.linspace(0, hd_max, 11)\n",
    "area_range = np.linspace(hull_min.volume, hull_max.volume, 11)\n",
    "# z = np.polyfit(hd, area_range, 1)\n",
    "\n"
   ]
  },
  {
   "cell_type": "code",
   "execution_count": 132,
   "metadata": {},
   "outputs": [
    {
     "data": {
      "text/plain": [
       "array([0. , 0.3, 0.6, 0.9, 1.2, 1.5, 1.8, 2.1, 2.4, 2.7, 3. ])"
      ]
     },
     "execution_count": 132,
     "metadata": {},
     "output_type": "execute_result"
    }
   ],
   "source": [
    "hd"
   ]
  },
  {
   "cell_type": "code",
   "execution_count": 112,
   "metadata": {},
   "outputs": [],
   "source": []
  },
  {
   "cell_type": "code",
   "execution_count": 113,
   "metadata": {},
   "outputs": [
    {
     "data": {
      "text/plain": [
       "91592.0"
      ]
     },
     "execution_count": 113,
     "metadata": {},
     "output_type": "execute_result"
    }
   ],
   "source": [
    "hull_min.volume"
   ]
  },
  {
   "cell_type": "code",
   "execution_count": 169,
   "metadata": {},
   "outputs": [],
   "source": [
    "def calcArea(in_area, in_hd):\n",
    "    m = 35\n",
    "    n = 35\n",
    "    x_min = np.array([-m, m, -m, m, -m, m, -m, m, -m, m])\n",
    "    y_min = np.array([-n, -n, n, n, -n, -n, n, n, -n, -n])\n",
    "    hull_min = ConvexHull(np.column_stack((x_min, y_min)))\n",
    "    a = 214\n",
    "    b = 107\n",
    "    x_min = np.array([-a, a, -a, a, -a, a, -a, a, -a, a])\n",
    "    y_min = np.array([-b, -b, b, b, -b, -b, b, b, -b, -b])\n",
    "    hull_max = ConvexHull(np.column_stack((x_max, y_max)))\n",
    "\n",
    "    hd_max = in_hd\n",
    "    slices = 11\n",
    "    hd_range = np.linspace(0, hd_max, slices)\n",
    "    # hd_range = np.append(hd_range, 5)\n",
    "    area_range = np.linspace(hull_min.volume, hull_max.volume, 10)\n",
    "    print(hd_range)\n",
    "    print(area_range)\n",
    "\n",
    "    below_range = np.sum(in_area > area_range)\n",
    "    print(np.sum(in_area > area_range))\n",
    "    return(hd_range[below_range])\n",
    "    "
   ]
  },
  {
   "cell_type": "code",
   "execution_count": null,
   "metadata": {},
   "outputs": [],
   "source": []
  }
 ],
 "metadata": {
  "kernelspec": {
   "display_name": "Python 3.7.11 ('base')",
   "language": "python",
   "name": "python3"
  },
  "language_info": {
   "codemirror_mode": {
    "name": "ipython",
    "version": 3
   },
   "file_extension": ".py",
   "mimetype": "text/x-python",
   "name": "python",
   "nbconvert_exporter": "python",
   "pygments_lexer": "ipython3",
   "version": "3.7.11"
  },
  "orig_nbformat": 4,
  "vscode": {
   "interpreter": {
    "hash": "40d3a090f54c6569ab1632332b64b2c03c39dcf918b08424e98f38b5ae0af88f"
   }
  }
 },
 "nbformat": 4,
 "nbformat_minor": 2
}
